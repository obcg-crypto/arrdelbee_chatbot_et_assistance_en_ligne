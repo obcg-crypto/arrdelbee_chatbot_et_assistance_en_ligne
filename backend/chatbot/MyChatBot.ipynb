{
  "cells": [
    {
      "cell_type": "markdown",
      "metadata": {
        "colab_type": "text",
        "id": "view-in-github"
      },
      "source": [
        "<a href=\"https://colab.research.google.com/github/Sanket758/AI-Chatbot-with-Tensorflow/blob/master/MyChatBot.ipynb\" target=\"_parent\"><img src=\"https://colab.research.google.com/assets/colab-badge.svg\" alt=\"Open In Colab\"/></a>"
      ]
    },
    {
      "cell_type": "code",
      "execution_count": 1,
      "metadata": {
        "colab": {
          "base_uri": "https://localhost:8080/",
          "height": 102
        },
        "id": "ulIReAt7fBe5",
        "outputId": "4cfbaadd-b367-4ff4-83fe-4b4b970c0525"
      },
      "outputs": [
        {
          "name": "stdout",
          "output_type": "stream",
          "text": [
            "Requirement already satisfied: nltk in c:\\users\\restart\\appdata\\local\\programs\\python\\python36\\lib\\site-packages (3.4.5)\n",
            "Requirement already satisfied: six in c:\\users\\restart\\appdata\\local\\programs\\python\\python36\\lib\\site-packages (from nltk) (1.15.0)\n"
          ]
        },
        {
          "name": "stderr",
          "output_type": "stream",
          "text": [
            "You are using pip version 18.1, however version 21.3.1 is available.\n",
            "You should consider upgrading via the 'python -m pip install --upgrade pip' command.\n",
            "[nltk_data] Downloading package punkt to\n",
            "[nltk_data]     C:\\Users\\ReStart\\AppData\\Roaming\\nltk_data...\n",
            "[nltk_data]   Unzipping tokenizers\\punkt.zip.\n"
          ]
        },
        {
          "data": {
            "text/plain": [
              "True"
            ]
          },
          "execution_count": 1,
          "metadata": {},
          "output_type": "execute_result"
        }
      ],
      "source": [
        "!pip install nltk\n",
        "import nltk\n",
        "nltk.download('punkt')"
      ]
    },
    {
      "cell_type": "code",
      "execution_count": 4,
      "metadata": {
        "id": "MoeUKxg-a5kj"
      },
      "outputs": [],
      "source": [
        "from nltk.stem import WordNetLemmatizer\n",
        "import nltk\n",
        "lemmatizer = WordNetLemmatizer()\n",
        "import json\n",
        "import pickle\n",
        "import warnings\n",
        "warnings.filterwarnings('ignore')"
      ]
    },
    {
      "cell_type": "code",
      "execution_count": 5,
      "metadata": {
        "colab": {
          "base_uri": "https://localhost:8080/",
          "height": 51
        },
        "id": "naoqg88dbdRe",
        "outputId": "3ed1e420-fedd-4a51-ec2c-42df90e83c00"
      },
      "outputs": [
        {
          "name": "stderr",
          "output_type": "stream",
          "text": [
            "UsageError: Line magic function `%tensorflow_version` not found.\n"
          ]
        }
      ],
      "source": [
        " %tensorflow_version 1.x\n",
        "import numpy as np\n",
        "from keras.models import Sequential\n",
        "from keras.layers import Dense, Activation, Dropout\n",
        "from keras.optimizers import SGD\n",
        "import random"
      ]
    },
    {
      "cell_type": "markdown",
      "metadata": {
        "id": "CwsiM5LveMCs"
      },
      "source": [
        "# Preprocessing"
      ]
    },
    {
      "cell_type": "code",
      "execution_count": 6,
      "metadata": {
        "id": "VyjWuwHlbjaX"
      },
      "outputs": [],
      "source": [
        "words=[]\n",
        "classes = []\n",
        "documents = []\n",
        "ignore_words = ['?', '!']\n",
        "data_file = open('./content/intents.json').read() # you can find the intents file here:https://github.com/Sanket758/AI-Chatbot-with-Tensorflow\n",
        "intents = json.loads(data_file)"
      ]
    },
    {
      "cell_type": "code",
      "execution_count": 7,
      "metadata": {
        "id": "An-wYX8JdOZq"
      },
      "outputs": [],
      "source": [
        "for intent in intents['intents']:\n",
        "    for pattern in intent['patterns']:\n",
        "        #tokenize each word\n",
        "        w = nltk.word_tokenize(pattern)\n",
        "        words.extend(w)\n",
        "        #add documents in the corpus\n",
        "        documents.append((w, intent['tag']))\n",
        "        # add to our classes list\n",
        "        if intent['tag'] not in classes:\n",
        "            classes.append(intent['tag'])"
      ]
    },
    {
      "cell_type": "code",
      "execution_count": 8,
      "metadata": {
        "colab": {
          "base_uri": "https://localhost:8080/",
          "height": 68
        },
        "id": "QJN3L8oAfncK",
        "outputId": "7e05a525-8a15-4030-fbb1-05ac869c9f29"
      },
      "outputs": [
        {
          "name": "stderr",
          "output_type": "stream",
          "text": [
            "[nltk_data] Error loading wordnet: <urlopen error [Errno 11001]\n",
            "[nltk_data]     getaddrinfo failed>\n"
          ]
        },
        {
          "data": {
            "text/plain": [
              "False"
            ]
          },
          "execution_count": 8,
          "metadata": {},
          "output_type": "execute_result"
        }
      ],
      "source": [
        "nltk.download('wordnet')"
      ]
    },
    {
      "cell_type": "code",
      "execution_count": 13,
      "metadata": {
        "colab": {
          "base_uri": "https://localhost:8080/",
          "height": 88
        },
        "id": "TDwPf9R5hHF2",
        "outputId": "db350c36-58f6-4142-f56d-33e263b936c5"
      },
      "outputs": [
        {
          "ename": "BadZipFile",
          "evalue": "File is not a zip file",
          "output_type": "error",
          "traceback": [
            "\u001b[1;31m---------------------------------------------------------------------------\u001b[0m",
            "\u001b[1;31mBadZipFile\u001b[0m                                Traceback (most recent call last)",
            "\u001b[1;32m<ipython-input-13-0a7945b65f1e>\u001b[0m in \u001b[0;36m<module>\u001b[1;34m\u001b[0m\n\u001b[0;32m      1\u001b[0m \u001b[1;31m# lemmatize, lower each word and remove duplicates\u001b[0m\u001b[1;33m\u001b[0m\u001b[1;33m\u001b[0m\u001b[1;33m\u001b[0m\u001b[0m\n\u001b[1;32m----> 2\u001b[1;33m \u001b[0mwords\u001b[0m \u001b[1;33m=\u001b[0m \u001b[1;33m[\u001b[0m\u001b[0mlemmatizer\u001b[0m\u001b[1;33m.\u001b[0m\u001b[0mlemmatize\u001b[0m\u001b[1;33m(\u001b[0m\u001b[0mw\u001b[0m\u001b[1;33m.\u001b[0m\u001b[0mlower\u001b[0m\u001b[1;33m(\u001b[0m\u001b[1;33m)\u001b[0m\u001b[1;33m)\u001b[0m \u001b[1;32mfor\u001b[0m \u001b[0mw\u001b[0m \u001b[1;32min\u001b[0m \u001b[0mwords\u001b[0m \u001b[1;32mif\u001b[0m \u001b[0mw\u001b[0m \u001b[1;32mnot\u001b[0m \u001b[1;32min\u001b[0m \u001b[0mignore_words\u001b[0m\u001b[1;33m]\u001b[0m\u001b[1;33m\u001b[0m\u001b[1;33m\u001b[0m\u001b[0m\n\u001b[0m\u001b[0;32m      3\u001b[0m \u001b[0mwords\u001b[0m \u001b[1;33m=\u001b[0m \u001b[0msorted\u001b[0m\u001b[1;33m(\u001b[0m\u001b[0mlist\u001b[0m\u001b[1;33m(\u001b[0m\u001b[0mset\u001b[0m\u001b[1;33m(\u001b[0m\u001b[0mwords\u001b[0m\u001b[1;33m)\u001b[0m\u001b[1;33m)\u001b[0m\u001b[1;33m)\u001b[0m\u001b[1;33m\u001b[0m\u001b[1;33m\u001b[0m\u001b[0m\n\u001b[0;32m      4\u001b[0m \u001b[1;31m# sort classes\u001b[0m\u001b[1;33m\u001b[0m\u001b[1;33m\u001b[0m\u001b[1;33m\u001b[0m\u001b[0m\n\u001b[0;32m      5\u001b[0m \u001b[0mclasses\u001b[0m \u001b[1;33m=\u001b[0m \u001b[0msorted\u001b[0m\u001b[1;33m(\u001b[0m\u001b[0mlist\u001b[0m\u001b[1;33m(\u001b[0m\u001b[0mset\u001b[0m\u001b[1;33m(\u001b[0m\u001b[0mclasses\u001b[0m\u001b[1;33m)\u001b[0m\u001b[1;33m)\u001b[0m\u001b[1;33m)\u001b[0m\u001b[1;33m\u001b[0m\u001b[1;33m\u001b[0m\u001b[0m\n",
            "\u001b[1;32m<ipython-input-13-0a7945b65f1e>\u001b[0m in \u001b[0;36m<listcomp>\u001b[1;34m(.0)\u001b[0m\n\u001b[0;32m      1\u001b[0m \u001b[1;31m# lemmatize, lower each word and remove duplicates\u001b[0m\u001b[1;33m\u001b[0m\u001b[1;33m\u001b[0m\u001b[1;33m\u001b[0m\u001b[0m\n\u001b[1;32m----> 2\u001b[1;33m \u001b[0mwords\u001b[0m \u001b[1;33m=\u001b[0m \u001b[1;33m[\u001b[0m\u001b[0mlemmatizer\u001b[0m\u001b[1;33m.\u001b[0m\u001b[0mlemmatize\u001b[0m\u001b[1;33m(\u001b[0m\u001b[0mw\u001b[0m\u001b[1;33m.\u001b[0m\u001b[0mlower\u001b[0m\u001b[1;33m(\u001b[0m\u001b[1;33m)\u001b[0m\u001b[1;33m)\u001b[0m \u001b[1;32mfor\u001b[0m \u001b[0mw\u001b[0m \u001b[1;32min\u001b[0m \u001b[0mwords\u001b[0m \u001b[1;32mif\u001b[0m \u001b[0mw\u001b[0m \u001b[1;32mnot\u001b[0m \u001b[1;32min\u001b[0m \u001b[0mignore_words\u001b[0m\u001b[1;33m]\u001b[0m\u001b[1;33m\u001b[0m\u001b[1;33m\u001b[0m\u001b[0m\n\u001b[0m\u001b[0;32m      3\u001b[0m \u001b[0mwords\u001b[0m \u001b[1;33m=\u001b[0m \u001b[0msorted\u001b[0m\u001b[1;33m(\u001b[0m\u001b[0mlist\u001b[0m\u001b[1;33m(\u001b[0m\u001b[0mset\u001b[0m\u001b[1;33m(\u001b[0m\u001b[0mwords\u001b[0m\u001b[1;33m)\u001b[0m\u001b[1;33m)\u001b[0m\u001b[1;33m)\u001b[0m\u001b[1;33m\u001b[0m\u001b[1;33m\u001b[0m\u001b[0m\n\u001b[0;32m      4\u001b[0m \u001b[1;31m# sort classes\u001b[0m\u001b[1;33m\u001b[0m\u001b[1;33m\u001b[0m\u001b[1;33m\u001b[0m\u001b[0m\n\u001b[0;32m      5\u001b[0m \u001b[0mclasses\u001b[0m \u001b[1;33m=\u001b[0m \u001b[0msorted\u001b[0m\u001b[1;33m(\u001b[0m\u001b[0mlist\u001b[0m\u001b[1;33m(\u001b[0m\u001b[0mset\u001b[0m\u001b[1;33m(\u001b[0m\u001b[0mclasses\u001b[0m\u001b[1;33m)\u001b[0m\u001b[1;33m)\u001b[0m\u001b[1;33m)\u001b[0m\u001b[1;33m\u001b[0m\u001b[1;33m\u001b[0m\u001b[0m\n",
            "\u001b[1;32mc:\\Users\\ReStart\\AppData\\Local\\Programs\\Python\\Python36\\lib\\site-packages\\nltk\\stem\\wordnet.py\u001b[0m in \u001b[0;36mlemmatize\u001b[1;34m(self, word, pos)\u001b[0m\n\u001b[0;32m     39\u001b[0m \u001b[1;33m\u001b[0m\u001b[0m\n\u001b[0;32m     40\u001b[0m     \u001b[1;32mdef\u001b[0m \u001b[0mlemmatize\u001b[0m\u001b[1;33m(\u001b[0m\u001b[0mself\u001b[0m\u001b[1;33m,\u001b[0m \u001b[0mword\u001b[0m\u001b[1;33m,\u001b[0m \u001b[0mpos\u001b[0m\u001b[1;33m=\u001b[0m\u001b[0mNOUN\u001b[0m\u001b[1;33m)\u001b[0m\u001b[1;33m:\u001b[0m\u001b[1;33m\u001b[0m\u001b[1;33m\u001b[0m\u001b[0m\n\u001b[1;32m---> 41\u001b[1;33m         \u001b[0mlemmas\u001b[0m \u001b[1;33m=\u001b[0m \u001b[0mwordnet\u001b[0m\u001b[1;33m.\u001b[0m\u001b[0m_morphy\u001b[0m\u001b[1;33m(\u001b[0m\u001b[0mword\u001b[0m\u001b[1;33m,\u001b[0m \u001b[0mpos\u001b[0m\u001b[1;33m)\u001b[0m\u001b[1;33m\u001b[0m\u001b[1;33m\u001b[0m\u001b[0m\n\u001b[0m\u001b[0;32m     42\u001b[0m         \u001b[1;32mreturn\u001b[0m \u001b[0mmin\u001b[0m\u001b[1;33m(\u001b[0m\u001b[0mlemmas\u001b[0m\u001b[1;33m,\u001b[0m \u001b[0mkey\u001b[0m\u001b[1;33m=\u001b[0m\u001b[0mlen\u001b[0m\u001b[1;33m)\u001b[0m \u001b[1;32mif\u001b[0m \u001b[0mlemmas\u001b[0m \u001b[1;32melse\u001b[0m \u001b[0mword\u001b[0m\u001b[1;33m\u001b[0m\u001b[1;33m\u001b[0m\u001b[0m\n\u001b[0;32m     43\u001b[0m \u001b[1;33m\u001b[0m\u001b[0m\n",
            "\u001b[1;32mc:\\Users\\ReStart\\AppData\\Local\\Programs\\Python\\Python36\\lib\\site-packages\\nltk\\corpus\\util.py\u001b[0m in \u001b[0;36m__getattr__\u001b[1;34m(self, attr)\u001b[0m\n\u001b[0;32m    121\u001b[0m             \u001b[1;32mraise\u001b[0m \u001b[0mAttributeError\u001b[0m\u001b[1;33m(\u001b[0m\u001b[1;34m\"LazyCorpusLoader object has no attribute '__bases__'\"\u001b[0m\u001b[1;33m)\u001b[0m\u001b[1;33m\u001b[0m\u001b[1;33m\u001b[0m\u001b[0m\n\u001b[0;32m    122\u001b[0m \u001b[1;33m\u001b[0m\u001b[0m\n\u001b[1;32m--> 123\u001b[1;33m         \u001b[0mself\u001b[0m\u001b[1;33m.\u001b[0m\u001b[0m__load\u001b[0m\u001b[1;33m(\u001b[0m\u001b[1;33m)\u001b[0m\u001b[1;33m\u001b[0m\u001b[1;33m\u001b[0m\u001b[0m\n\u001b[0m\u001b[0;32m    124\u001b[0m         \u001b[1;31m# This looks circular, but its not, since __load() changes our\u001b[0m\u001b[1;33m\u001b[0m\u001b[1;33m\u001b[0m\u001b[1;33m\u001b[0m\u001b[0m\n\u001b[0;32m    125\u001b[0m         \u001b[1;31m# __class__ to something new:\u001b[0m\u001b[1;33m\u001b[0m\u001b[1;33m\u001b[0m\u001b[1;33m\u001b[0m\u001b[0m\n",
            "\u001b[1;32mc:\\Users\\ReStart\\AppData\\Local\\Programs\\Python\\Python36\\lib\\site-packages\\nltk\\corpus\\util.py\u001b[0m in \u001b[0;36m__load\u001b[1;34m(self)\u001b[0m\n\u001b[0;32m     81\u001b[0m         \u001b[1;32melse\u001b[0m\u001b[1;33m:\u001b[0m\u001b[1;33m\u001b[0m\u001b[1;33m\u001b[0m\u001b[0m\n\u001b[0;32m     82\u001b[0m             \u001b[1;32mtry\u001b[0m\u001b[1;33m:\u001b[0m\u001b[1;33m\u001b[0m\u001b[1;33m\u001b[0m\u001b[0m\n\u001b[1;32m---> 83\u001b[1;33m                 \u001b[0mroot\u001b[0m \u001b[1;33m=\u001b[0m \u001b[0mnltk\u001b[0m\u001b[1;33m.\u001b[0m\u001b[0mdata\u001b[0m\u001b[1;33m.\u001b[0m\u001b[0mfind\u001b[0m\u001b[1;33m(\u001b[0m\u001b[1;34m'{}/{}'\u001b[0m\u001b[1;33m.\u001b[0m\u001b[0mformat\u001b[0m\u001b[1;33m(\u001b[0m\u001b[0mself\u001b[0m\u001b[1;33m.\u001b[0m\u001b[0msubdir\u001b[0m\u001b[1;33m,\u001b[0m \u001b[0mself\u001b[0m\u001b[1;33m.\u001b[0m\u001b[0m__name\u001b[0m\u001b[1;33m)\u001b[0m\u001b[1;33m)\u001b[0m\u001b[1;33m\u001b[0m\u001b[1;33m\u001b[0m\u001b[0m\n\u001b[0m\u001b[0;32m     84\u001b[0m             \u001b[1;32mexcept\u001b[0m \u001b[0mLookupError\u001b[0m \u001b[1;32mas\u001b[0m \u001b[0me\u001b[0m\u001b[1;33m:\u001b[0m\u001b[1;33m\u001b[0m\u001b[1;33m\u001b[0m\u001b[0m\n\u001b[0;32m     85\u001b[0m                 \u001b[1;32mtry\u001b[0m\u001b[1;33m:\u001b[0m\u001b[1;33m\u001b[0m\u001b[1;33m\u001b[0m\u001b[0m\n",
            "\u001b[1;32mc:\\Users\\ReStart\\AppData\\Local\\Programs\\Python\\Python36\\lib\\site-packages\\nltk\\data.py\u001b[0m in \u001b[0;36mfind\u001b[1;34m(resource_name, paths)\u001b[0m\n\u001b[0;32m    671\u001b[0m             \u001b[0mmodified_name\u001b[0m \u001b[1;33m=\u001b[0m \u001b[1;34m'/'\u001b[0m\u001b[1;33m.\u001b[0m\u001b[0mjoin\u001b[0m\u001b[1;33m(\u001b[0m\u001b[0mpieces\u001b[0m\u001b[1;33m[\u001b[0m\u001b[1;33m:\u001b[0m\u001b[0mi\u001b[0m\u001b[1;33m]\u001b[0m \u001b[1;33m+\u001b[0m \u001b[1;33m[\u001b[0m\u001b[0mpieces\u001b[0m\u001b[1;33m[\u001b[0m\u001b[0mi\u001b[0m\u001b[1;33m]\u001b[0m \u001b[1;33m+\u001b[0m \u001b[1;34m'.zip'\u001b[0m\u001b[1;33m]\u001b[0m \u001b[1;33m+\u001b[0m \u001b[0mpieces\u001b[0m\u001b[1;33m[\u001b[0m\u001b[0mi\u001b[0m\u001b[1;33m:\u001b[0m\u001b[1;33m]\u001b[0m\u001b[1;33m)\u001b[0m\u001b[1;33m\u001b[0m\u001b[1;33m\u001b[0m\u001b[0m\n\u001b[0;32m    672\u001b[0m             \u001b[1;32mtry\u001b[0m\u001b[1;33m:\u001b[0m\u001b[1;33m\u001b[0m\u001b[1;33m\u001b[0m\u001b[0m\n\u001b[1;32m--> 673\u001b[1;33m                 \u001b[1;32mreturn\u001b[0m \u001b[0mfind\u001b[0m\u001b[1;33m(\u001b[0m\u001b[0mmodified_name\u001b[0m\u001b[1;33m,\u001b[0m \u001b[0mpaths\u001b[0m\u001b[1;33m)\u001b[0m\u001b[1;33m\u001b[0m\u001b[1;33m\u001b[0m\u001b[0m\n\u001b[0m\u001b[0;32m    674\u001b[0m             \u001b[1;32mexcept\u001b[0m \u001b[0mLookupError\u001b[0m\u001b[1;33m:\u001b[0m\u001b[1;33m\u001b[0m\u001b[1;33m\u001b[0m\u001b[0m\n\u001b[0;32m    675\u001b[0m                 \u001b[1;32mpass\u001b[0m\u001b[1;33m\u001b[0m\u001b[1;33m\u001b[0m\u001b[0m\n",
            "\u001b[1;32mc:\\Users\\ReStart\\AppData\\Local\\Programs\\Python\\Python36\\lib\\site-packages\\nltk\\data.py\u001b[0m in \u001b[0;36mfind\u001b[1;34m(resource_name, paths)\u001b[0m\n\u001b[0;32m    658\u001b[0m                 \u001b[1;32mif\u001b[0m \u001b[0mos\u001b[0m\u001b[1;33m.\u001b[0m\u001b[0mpath\u001b[0m\u001b[1;33m.\u001b[0m\u001b[0mexists\u001b[0m\u001b[1;33m(\u001b[0m\u001b[0mp\u001b[0m\u001b[1;33m)\u001b[0m\u001b[1;33m:\u001b[0m\u001b[1;33m\u001b[0m\u001b[1;33m\u001b[0m\u001b[0m\n\u001b[0;32m    659\u001b[0m                     \u001b[1;32mtry\u001b[0m\u001b[1;33m:\u001b[0m\u001b[1;33m\u001b[0m\u001b[1;33m\u001b[0m\u001b[0m\n\u001b[1;32m--> 660\u001b[1;33m                         \u001b[1;32mreturn\u001b[0m \u001b[0mZipFilePathPointer\u001b[0m\u001b[1;33m(\u001b[0m\u001b[0mp\u001b[0m\u001b[1;33m,\u001b[0m \u001b[0mzipentry\u001b[0m\u001b[1;33m)\u001b[0m\u001b[1;33m\u001b[0m\u001b[1;33m\u001b[0m\u001b[0m\n\u001b[0m\u001b[0;32m    661\u001b[0m                     \u001b[1;32mexcept\u001b[0m \u001b[0mIOError\u001b[0m\u001b[1;33m:\u001b[0m\u001b[1;33m\u001b[0m\u001b[1;33m\u001b[0m\u001b[0m\n\u001b[0;32m    662\u001b[0m                         \u001b[1;31m# resource not in zipfile\u001b[0m\u001b[1;33m\u001b[0m\u001b[1;33m\u001b[0m\u001b[1;33m\u001b[0m\u001b[0m\n",
            "\u001b[1;32mc:\\Users\\ReStart\\AppData\\Local\\Programs\\Python\\Python36\\lib\\site-packages\\nltk\\compat.py\u001b[0m in \u001b[0;36m_decorator\u001b[1;34m(*args, **kwargs)\u001b[0m\n\u001b[0;32m    226\u001b[0m     \u001b[1;32mdef\u001b[0m \u001b[0m_decorator\u001b[0m\u001b[1;33m(\u001b[0m\u001b[1;33m*\u001b[0m\u001b[0margs\u001b[0m\u001b[1;33m,\u001b[0m \u001b[1;33m**\u001b[0m\u001b[0mkwargs\u001b[0m\u001b[1;33m)\u001b[0m\u001b[1;33m:\u001b[0m\u001b[1;33m\u001b[0m\u001b[1;33m\u001b[0m\u001b[0m\n\u001b[0;32m    227\u001b[0m         \u001b[0margs\u001b[0m \u001b[1;33m=\u001b[0m \u001b[1;33m(\u001b[0m\u001b[0margs\u001b[0m\u001b[1;33m[\u001b[0m\u001b[1;36m0\u001b[0m\u001b[1;33m]\u001b[0m\u001b[1;33m,\u001b[0m \u001b[0madd_py3_data\u001b[0m\u001b[1;33m(\u001b[0m\u001b[0margs\u001b[0m\u001b[1;33m[\u001b[0m\u001b[1;36m1\u001b[0m\u001b[1;33m]\u001b[0m\u001b[1;33m)\u001b[0m\u001b[1;33m)\u001b[0m \u001b[1;33m+\u001b[0m \u001b[0margs\u001b[0m\u001b[1;33m[\u001b[0m\u001b[1;36m2\u001b[0m\u001b[1;33m:\u001b[0m\u001b[1;33m]\u001b[0m\u001b[1;33m\u001b[0m\u001b[1;33m\u001b[0m\u001b[0m\n\u001b[1;32m--> 228\u001b[1;33m         \u001b[1;32mreturn\u001b[0m \u001b[0minit_func\u001b[0m\u001b[1;33m(\u001b[0m\u001b[1;33m*\u001b[0m\u001b[0margs\u001b[0m\u001b[1;33m,\u001b[0m \u001b[1;33m**\u001b[0m\u001b[0mkwargs\u001b[0m\u001b[1;33m)\u001b[0m\u001b[1;33m\u001b[0m\u001b[1;33m\u001b[0m\u001b[0m\n\u001b[0m\u001b[0;32m    229\u001b[0m \u001b[1;33m\u001b[0m\u001b[0m\n\u001b[0;32m    230\u001b[0m     \u001b[1;32mreturn\u001b[0m \u001b[0mwraps\u001b[0m\u001b[1;33m(\u001b[0m\u001b[0minit_func\u001b[0m\u001b[1;33m)\u001b[0m\u001b[1;33m(\u001b[0m\u001b[0m_decorator\u001b[0m\u001b[1;33m)\u001b[0m\u001b[1;33m\u001b[0m\u001b[1;33m\u001b[0m\u001b[0m\n",
            "\u001b[1;32mc:\\Users\\ReStart\\AppData\\Local\\Programs\\Python\\Python36\\lib\\site-packages\\nltk\\data.py\u001b[0m in \u001b[0;36m__init__\u001b[1;34m(self, zipfile, entry)\u001b[0m\n\u001b[0;32m    504\u001b[0m         \"\"\"\n\u001b[0;32m    505\u001b[0m         \u001b[1;32mif\u001b[0m \u001b[0misinstance\u001b[0m\u001b[1;33m(\u001b[0m\u001b[0mzipfile\u001b[0m\u001b[1;33m,\u001b[0m \u001b[0mstring_types\u001b[0m\u001b[1;33m)\u001b[0m\u001b[1;33m:\u001b[0m\u001b[1;33m\u001b[0m\u001b[1;33m\u001b[0m\u001b[0m\n\u001b[1;32m--> 506\u001b[1;33m             \u001b[0mzipfile\u001b[0m \u001b[1;33m=\u001b[0m \u001b[0mOpenOnDemandZipFile\u001b[0m\u001b[1;33m(\u001b[0m\u001b[0mos\u001b[0m\u001b[1;33m.\u001b[0m\u001b[0mpath\u001b[0m\u001b[1;33m.\u001b[0m\u001b[0mabspath\u001b[0m\u001b[1;33m(\u001b[0m\u001b[0mzipfile\u001b[0m\u001b[1;33m)\u001b[0m\u001b[1;33m)\u001b[0m\u001b[1;33m\u001b[0m\u001b[1;33m\u001b[0m\u001b[0m\n\u001b[0m\u001b[0;32m    507\u001b[0m \u001b[1;33m\u001b[0m\u001b[0m\n\u001b[0;32m    508\u001b[0m         \u001b[1;31m# Check that the entry exists:\u001b[0m\u001b[1;33m\u001b[0m\u001b[1;33m\u001b[0m\u001b[1;33m\u001b[0m\u001b[0m\n",
            "\u001b[1;32mc:\\Users\\ReStart\\AppData\\Local\\Programs\\Python\\Python36\\lib\\site-packages\\nltk\\compat.py\u001b[0m in \u001b[0;36m_decorator\u001b[1;34m(*args, **kwargs)\u001b[0m\n\u001b[0;32m    226\u001b[0m     \u001b[1;32mdef\u001b[0m \u001b[0m_decorator\u001b[0m\u001b[1;33m(\u001b[0m\u001b[1;33m*\u001b[0m\u001b[0margs\u001b[0m\u001b[1;33m,\u001b[0m \u001b[1;33m**\u001b[0m\u001b[0mkwargs\u001b[0m\u001b[1;33m)\u001b[0m\u001b[1;33m:\u001b[0m\u001b[1;33m\u001b[0m\u001b[1;33m\u001b[0m\u001b[0m\n\u001b[0;32m    227\u001b[0m         \u001b[0margs\u001b[0m \u001b[1;33m=\u001b[0m \u001b[1;33m(\u001b[0m\u001b[0margs\u001b[0m\u001b[1;33m[\u001b[0m\u001b[1;36m0\u001b[0m\u001b[1;33m]\u001b[0m\u001b[1;33m,\u001b[0m \u001b[0madd_py3_data\u001b[0m\u001b[1;33m(\u001b[0m\u001b[0margs\u001b[0m\u001b[1;33m[\u001b[0m\u001b[1;36m1\u001b[0m\u001b[1;33m]\u001b[0m\u001b[1;33m)\u001b[0m\u001b[1;33m)\u001b[0m \u001b[1;33m+\u001b[0m \u001b[0margs\u001b[0m\u001b[1;33m[\u001b[0m\u001b[1;36m2\u001b[0m\u001b[1;33m:\u001b[0m\u001b[1;33m]\u001b[0m\u001b[1;33m\u001b[0m\u001b[1;33m\u001b[0m\u001b[0m\n\u001b[1;32m--> 228\u001b[1;33m         \u001b[1;32mreturn\u001b[0m \u001b[0minit_func\u001b[0m\u001b[1;33m(\u001b[0m\u001b[1;33m*\u001b[0m\u001b[0margs\u001b[0m\u001b[1;33m,\u001b[0m \u001b[1;33m**\u001b[0m\u001b[0mkwargs\u001b[0m\u001b[1;33m)\u001b[0m\u001b[1;33m\u001b[0m\u001b[1;33m\u001b[0m\u001b[0m\n\u001b[0m\u001b[0;32m    229\u001b[0m \u001b[1;33m\u001b[0m\u001b[0m\n\u001b[0;32m    230\u001b[0m     \u001b[1;32mreturn\u001b[0m \u001b[0mwraps\u001b[0m\u001b[1;33m(\u001b[0m\u001b[0minit_func\u001b[0m\u001b[1;33m)\u001b[0m\u001b[1;33m(\u001b[0m\u001b[0m_decorator\u001b[0m\u001b[1;33m)\u001b[0m\u001b[1;33m\u001b[0m\u001b[1;33m\u001b[0m\u001b[0m\n",
            "\u001b[1;32mc:\\Users\\ReStart\\AppData\\Local\\Programs\\Python\\Python36\\lib\\site-packages\\nltk\\data.py\u001b[0m in \u001b[0;36m__init__\u001b[1;34m(self, filename)\u001b[0m\n\u001b[0;32m   1053\u001b[0m         \u001b[1;32mif\u001b[0m \u001b[1;32mnot\u001b[0m \u001b[0misinstance\u001b[0m\u001b[1;33m(\u001b[0m\u001b[0mfilename\u001b[0m\u001b[1;33m,\u001b[0m \u001b[0mstring_types\u001b[0m\u001b[1;33m)\u001b[0m\u001b[1;33m:\u001b[0m\u001b[1;33m\u001b[0m\u001b[1;33m\u001b[0m\u001b[0m\n\u001b[0;32m   1054\u001b[0m             \u001b[1;32mraise\u001b[0m \u001b[0mTypeError\u001b[0m\u001b[1;33m(\u001b[0m\u001b[1;34m'ReopenableZipFile filename must be a string'\u001b[0m\u001b[1;33m)\u001b[0m\u001b[1;33m\u001b[0m\u001b[1;33m\u001b[0m\u001b[0m\n\u001b[1;32m-> 1055\u001b[1;33m         \u001b[0mzipfile\u001b[0m\u001b[1;33m.\u001b[0m\u001b[0mZipFile\u001b[0m\u001b[1;33m.\u001b[0m\u001b[0m__init__\u001b[0m\u001b[1;33m(\u001b[0m\u001b[0mself\u001b[0m\u001b[1;33m,\u001b[0m \u001b[0mfilename\u001b[0m\u001b[1;33m)\u001b[0m\u001b[1;33m\u001b[0m\u001b[1;33m\u001b[0m\u001b[0m\n\u001b[0m\u001b[0;32m   1056\u001b[0m         \u001b[1;32massert\u001b[0m \u001b[0mself\u001b[0m\u001b[1;33m.\u001b[0m\u001b[0mfilename\u001b[0m \u001b[1;33m==\u001b[0m \u001b[0mfilename\u001b[0m\u001b[1;33m\u001b[0m\u001b[1;33m\u001b[0m\u001b[0m\n\u001b[0;32m   1057\u001b[0m         \u001b[0mself\u001b[0m\u001b[1;33m.\u001b[0m\u001b[0mclose\u001b[0m\u001b[1;33m(\u001b[0m\u001b[1;33m)\u001b[0m\u001b[1;33m\u001b[0m\u001b[1;33m\u001b[0m\u001b[0m\n",
            "\u001b[1;32mc:\\Users\\ReStart\\AppData\\Local\\Programs\\Python\\Python36\\lib\\zipfile.py\u001b[0m in \u001b[0;36m__init__\u001b[1;34m(self, file, mode, compression, allowZip64)\u001b[0m\n\u001b[0;32m   1129\u001b[0m         \u001b[1;32mtry\u001b[0m\u001b[1;33m:\u001b[0m\u001b[1;33m\u001b[0m\u001b[1;33m\u001b[0m\u001b[0m\n\u001b[0;32m   1130\u001b[0m             \u001b[1;32mif\u001b[0m \u001b[0mmode\u001b[0m \u001b[1;33m==\u001b[0m \u001b[1;34m'r'\u001b[0m\u001b[1;33m:\u001b[0m\u001b[1;33m\u001b[0m\u001b[1;33m\u001b[0m\u001b[0m\n\u001b[1;32m-> 1131\u001b[1;33m                 \u001b[0mself\u001b[0m\u001b[1;33m.\u001b[0m\u001b[0m_RealGetContents\u001b[0m\u001b[1;33m(\u001b[0m\u001b[1;33m)\u001b[0m\u001b[1;33m\u001b[0m\u001b[1;33m\u001b[0m\u001b[0m\n\u001b[0m\u001b[0;32m   1132\u001b[0m             \u001b[1;32melif\u001b[0m \u001b[0mmode\u001b[0m \u001b[1;32min\u001b[0m \u001b[1;33m(\u001b[0m\u001b[1;34m'w'\u001b[0m\u001b[1;33m,\u001b[0m \u001b[1;34m'x'\u001b[0m\u001b[1;33m)\u001b[0m\u001b[1;33m:\u001b[0m\u001b[1;33m\u001b[0m\u001b[1;33m\u001b[0m\u001b[0m\n\u001b[0;32m   1133\u001b[0m                 \u001b[1;31m# set the modified flag so central directory gets written\u001b[0m\u001b[1;33m\u001b[0m\u001b[1;33m\u001b[0m\u001b[1;33m\u001b[0m\u001b[0m\n",
            "\u001b[1;32mc:\\Users\\ReStart\\AppData\\Local\\Programs\\Python\\Python36\\lib\\zipfile.py\u001b[0m in \u001b[0;36m_RealGetContents\u001b[1;34m(self)\u001b[0m\n\u001b[0;32m   1196\u001b[0m             \u001b[1;32mraise\u001b[0m \u001b[0mBadZipFile\u001b[0m\u001b[1;33m(\u001b[0m\u001b[1;34m\"File is not a zip file\"\u001b[0m\u001b[1;33m)\u001b[0m\u001b[1;33m\u001b[0m\u001b[1;33m\u001b[0m\u001b[0m\n\u001b[0;32m   1197\u001b[0m         \u001b[1;32mif\u001b[0m \u001b[1;32mnot\u001b[0m \u001b[0mendrec\u001b[0m\u001b[1;33m:\u001b[0m\u001b[1;33m\u001b[0m\u001b[1;33m\u001b[0m\u001b[0m\n\u001b[1;32m-> 1198\u001b[1;33m             \u001b[1;32mraise\u001b[0m \u001b[0mBadZipFile\u001b[0m\u001b[1;33m(\u001b[0m\u001b[1;34m\"File is not a zip file\"\u001b[0m\u001b[1;33m)\u001b[0m\u001b[1;33m\u001b[0m\u001b[1;33m\u001b[0m\u001b[0m\n\u001b[0m\u001b[0;32m   1199\u001b[0m         \u001b[1;32mif\u001b[0m \u001b[0mself\u001b[0m\u001b[1;33m.\u001b[0m\u001b[0mdebug\u001b[0m \u001b[1;33m>\u001b[0m \u001b[1;36m1\u001b[0m\u001b[1;33m:\u001b[0m\u001b[1;33m\u001b[0m\u001b[1;33m\u001b[0m\u001b[0m\n\u001b[0;32m   1200\u001b[0m             \u001b[0mprint\u001b[0m\u001b[1;33m(\u001b[0m\u001b[0mendrec\u001b[0m\u001b[1;33m)\u001b[0m\u001b[1;33m\u001b[0m\u001b[1;33m\u001b[0m\u001b[0m\n",
            "\u001b[1;31mBadZipFile\u001b[0m: File is not a zip file"
          ]
        }
      ],
      "source": [
        "# lemmatize, lower each word and remove duplicates\n",
        "words = [lemmatizer.lemmatize(w.lower()) for w in words if w not in ignore_words]\n",
        "words = sorted(list(set(words)))\n",
        "# sort classes\n",
        "classes = sorted(list(set(classes)))\n",
        "# documents = combination between patterns and intents\n",
        "print (len(documents), \"documents\")\n",
        "# classes = intents\n",
        "print (len(classes), \"classes\", classes)\n",
        "# words = all words, vocabulary\n",
        "print (len(words), \"unique lemmatized words\", words)\n",
        "pickle.dump(words,open('words.pkl','wb'))\n",
        "pickle.dump(classes,open('classes.pkl','wb'))"
      ]
    },
    {
      "cell_type": "code",
      "execution_count": 19,
      "metadata": {
        "colab": {
          "base_uri": "https://localhost:8080/",
          "height": 34
        },
        "id": "wC_eRFlBiEUN",
        "outputId": "fcd7fb23-a1e3-4063-c86a-68230ac0b337"
      },
      "outputs": [
        {
          "ename": "BadZipFile",
          "evalue": "File is not a zip file",
          "output_type": "error",
          "traceback": [
            "\u001b[1;31m---------------------------------------------------------------------------\u001b[0m",
            "\u001b[1;31mBadZipFile\u001b[0m                                Traceback (most recent call last)",
            "\u001b[1;32m<ipython-input-19-6059a18de4a1>\u001b[0m in \u001b[0;36m<module>\u001b[1;34m\u001b[0m\n\u001b[0;32m     13\u001b[0m     \u001b[0mpattern_words\u001b[0m \u001b[1;33m=\u001b[0m \u001b[0mdoc\u001b[0m\u001b[1;33m[\u001b[0m\u001b[1;36m0\u001b[0m\u001b[1;33m]\u001b[0m\u001b[1;33m\u001b[0m\u001b[1;33m\u001b[0m\u001b[0m\n\u001b[0;32m     14\u001b[0m     \u001b[1;31m# lemmatize each word - create base word, in attempt to represent related words\u001b[0m\u001b[1;33m\u001b[0m\u001b[1;33m\u001b[0m\u001b[1;33m\u001b[0m\u001b[0m\n\u001b[1;32m---> 15\u001b[1;33m     \u001b[0mpattern_words\u001b[0m \u001b[1;33m=\u001b[0m \u001b[1;33m[\u001b[0m\u001b[0mlemmatizer\u001b[0m\u001b[1;33m.\u001b[0m\u001b[0mlemmatize\u001b[0m\u001b[1;33m(\u001b[0m\u001b[0mword\u001b[0m\u001b[1;33m.\u001b[0m\u001b[0mlower\u001b[0m\u001b[1;33m(\u001b[0m\u001b[1;33m)\u001b[0m\u001b[1;33m)\u001b[0m \u001b[1;32mfor\u001b[0m \u001b[0mword\u001b[0m \u001b[1;32min\u001b[0m \u001b[0mpattern_words\u001b[0m\u001b[1;33m]\u001b[0m\u001b[1;33m\u001b[0m\u001b[1;33m\u001b[0m\u001b[0m\n\u001b[0m\u001b[0;32m     16\u001b[0m     \u001b[1;31m# create our bag of words array with 1, if word match found in current pattern\u001b[0m\u001b[1;33m\u001b[0m\u001b[1;33m\u001b[0m\u001b[1;33m\u001b[0m\u001b[0m\n\u001b[0;32m     17\u001b[0m     \u001b[1;32mfor\u001b[0m \u001b[0mw\u001b[0m \u001b[1;32min\u001b[0m \u001b[0mwords\u001b[0m\u001b[1;33m:\u001b[0m\u001b[1;33m\u001b[0m\u001b[1;33m\u001b[0m\u001b[0m\n",
            "\u001b[1;32m<ipython-input-19-6059a18de4a1>\u001b[0m in \u001b[0;36m<listcomp>\u001b[1;34m(.0)\u001b[0m\n\u001b[0;32m     13\u001b[0m     \u001b[0mpattern_words\u001b[0m \u001b[1;33m=\u001b[0m \u001b[0mdoc\u001b[0m\u001b[1;33m[\u001b[0m\u001b[1;36m0\u001b[0m\u001b[1;33m]\u001b[0m\u001b[1;33m\u001b[0m\u001b[1;33m\u001b[0m\u001b[0m\n\u001b[0;32m     14\u001b[0m     \u001b[1;31m# lemmatize each word - create base word, in attempt to represent related words\u001b[0m\u001b[1;33m\u001b[0m\u001b[1;33m\u001b[0m\u001b[1;33m\u001b[0m\u001b[0m\n\u001b[1;32m---> 15\u001b[1;33m     \u001b[0mpattern_words\u001b[0m \u001b[1;33m=\u001b[0m \u001b[1;33m[\u001b[0m\u001b[0mlemmatizer\u001b[0m\u001b[1;33m.\u001b[0m\u001b[0mlemmatize\u001b[0m\u001b[1;33m(\u001b[0m\u001b[0mword\u001b[0m\u001b[1;33m.\u001b[0m\u001b[0mlower\u001b[0m\u001b[1;33m(\u001b[0m\u001b[1;33m)\u001b[0m\u001b[1;33m)\u001b[0m \u001b[1;32mfor\u001b[0m \u001b[0mword\u001b[0m \u001b[1;32min\u001b[0m \u001b[0mpattern_words\u001b[0m\u001b[1;33m]\u001b[0m\u001b[1;33m\u001b[0m\u001b[1;33m\u001b[0m\u001b[0m\n\u001b[0m\u001b[0;32m     16\u001b[0m     \u001b[1;31m# create our bag of words array with 1, if word match found in current pattern\u001b[0m\u001b[1;33m\u001b[0m\u001b[1;33m\u001b[0m\u001b[1;33m\u001b[0m\u001b[0m\n\u001b[0;32m     17\u001b[0m     \u001b[1;32mfor\u001b[0m \u001b[0mw\u001b[0m \u001b[1;32min\u001b[0m \u001b[0mwords\u001b[0m\u001b[1;33m:\u001b[0m\u001b[1;33m\u001b[0m\u001b[1;33m\u001b[0m\u001b[0m\n",
            "\u001b[1;32mc:\\Users\\ReStart\\AppData\\Local\\Programs\\Python\\Python36\\lib\\site-packages\\nltk\\stem\\wordnet.py\u001b[0m in \u001b[0;36mlemmatize\u001b[1;34m(self, word, pos)\u001b[0m\n\u001b[0;32m     39\u001b[0m \u001b[1;33m\u001b[0m\u001b[0m\n\u001b[0;32m     40\u001b[0m     \u001b[1;32mdef\u001b[0m \u001b[0mlemmatize\u001b[0m\u001b[1;33m(\u001b[0m\u001b[0mself\u001b[0m\u001b[1;33m,\u001b[0m \u001b[0mword\u001b[0m\u001b[1;33m,\u001b[0m \u001b[0mpos\u001b[0m\u001b[1;33m=\u001b[0m\u001b[0mNOUN\u001b[0m\u001b[1;33m)\u001b[0m\u001b[1;33m:\u001b[0m\u001b[1;33m\u001b[0m\u001b[1;33m\u001b[0m\u001b[0m\n\u001b[1;32m---> 41\u001b[1;33m         \u001b[0mlemmas\u001b[0m \u001b[1;33m=\u001b[0m \u001b[0mwordnet\u001b[0m\u001b[1;33m.\u001b[0m\u001b[0m_morphy\u001b[0m\u001b[1;33m(\u001b[0m\u001b[0mword\u001b[0m\u001b[1;33m,\u001b[0m \u001b[0mpos\u001b[0m\u001b[1;33m)\u001b[0m\u001b[1;33m\u001b[0m\u001b[1;33m\u001b[0m\u001b[0m\n\u001b[0m\u001b[0;32m     42\u001b[0m         \u001b[1;32mreturn\u001b[0m \u001b[0mmin\u001b[0m\u001b[1;33m(\u001b[0m\u001b[0mlemmas\u001b[0m\u001b[1;33m,\u001b[0m \u001b[0mkey\u001b[0m\u001b[1;33m=\u001b[0m\u001b[0mlen\u001b[0m\u001b[1;33m)\u001b[0m \u001b[1;32mif\u001b[0m \u001b[0mlemmas\u001b[0m \u001b[1;32melse\u001b[0m \u001b[0mword\u001b[0m\u001b[1;33m\u001b[0m\u001b[1;33m\u001b[0m\u001b[0m\n\u001b[0;32m     43\u001b[0m \u001b[1;33m\u001b[0m\u001b[0m\n",
            "\u001b[1;32mc:\\Users\\ReStart\\AppData\\Local\\Programs\\Python\\Python36\\lib\\site-packages\\nltk\\corpus\\util.py\u001b[0m in \u001b[0;36m__getattr__\u001b[1;34m(self, attr)\u001b[0m\n\u001b[0;32m    121\u001b[0m             \u001b[1;32mraise\u001b[0m \u001b[0mAttributeError\u001b[0m\u001b[1;33m(\u001b[0m\u001b[1;34m\"LazyCorpusLoader object has no attribute '__bases__'\"\u001b[0m\u001b[1;33m)\u001b[0m\u001b[1;33m\u001b[0m\u001b[1;33m\u001b[0m\u001b[0m\n\u001b[0;32m    122\u001b[0m \u001b[1;33m\u001b[0m\u001b[0m\n\u001b[1;32m--> 123\u001b[1;33m         \u001b[0mself\u001b[0m\u001b[1;33m.\u001b[0m\u001b[0m__load\u001b[0m\u001b[1;33m(\u001b[0m\u001b[1;33m)\u001b[0m\u001b[1;33m\u001b[0m\u001b[1;33m\u001b[0m\u001b[0m\n\u001b[0m\u001b[0;32m    124\u001b[0m         \u001b[1;31m# This looks circular, but its not, since __load() changes our\u001b[0m\u001b[1;33m\u001b[0m\u001b[1;33m\u001b[0m\u001b[1;33m\u001b[0m\u001b[0m\n\u001b[0;32m    125\u001b[0m         \u001b[1;31m# __class__ to something new:\u001b[0m\u001b[1;33m\u001b[0m\u001b[1;33m\u001b[0m\u001b[1;33m\u001b[0m\u001b[0m\n",
            "\u001b[1;32mc:\\Users\\ReStart\\AppData\\Local\\Programs\\Python\\Python36\\lib\\site-packages\\nltk\\corpus\\util.py\u001b[0m in \u001b[0;36m__load\u001b[1;34m(self)\u001b[0m\n\u001b[0;32m     81\u001b[0m         \u001b[1;32melse\u001b[0m\u001b[1;33m:\u001b[0m\u001b[1;33m\u001b[0m\u001b[1;33m\u001b[0m\u001b[0m\n\u001b[0;32m     82\u001b[0m             \u001b[1;32mtry\u001b[0m\u001b[1;33m:\u001b[0m\u001b[1;33m\u001b[0m\u001b[1;33m\u001b[0m\u001b[0m\n\u001b[1;32m---> 83\u001b[1;33m                 \u001b[0mroot\u001b[0m \u001b[1;33m=\u001b[0m \u001b[0mnltk\u001b[0m\u001b[1;33m.\u001b[0m\u001b[0mdata\u001b[0m\u001b[1;33m.\u001b[0m\u001b[0mfind\u001b[0m\u001b[1;33m(\u001b[0m\u001b[1;34m'{}/{}'\u001b[0m\u001b[1;33m.\u001b[0m\u001b[0mformat\u001b[0m\u001b[1;33m(\u001b[0m\u001b[0mself\u001b[0m\u001b[1;33m.\u001b[0m\u001b[0msubdir\u001b[0m\u001b[1;33m,\u001b[0m \u001b[0mself\u001b[0m\u001b[1;33m.\u001b[0m\u001b[0m__name\u001b[0m\u001b[1;33m)\u001b[0m\u001b[1;33m)\u001b[0m\u001b[1;33m\u001b[0m\u001b[1;33m\u001b[0m\u001b[0m\n\u001b[0m\u001b[0;32m     84\u001b[0m             \u001b[1;32mexcept\u001b[0m \u001b[0mLookupError\u001b[0m \u001b[1;32mas\u001b[0m \u001b[0me\u001b[0m\u001b[1;33m:\u001b[0m\u001b[1;33m\u001b[0m\u001b[1;33m\u001b[0m\u001b[0m\n\u001b[0;32m     85\u001b[0m                 \u001b[1;32mtry\u001b[0m\u001b[1;33m:\u001b[0m\u001b[1;33m\u001b[0m\u001b[1;33m\u001b[0m\u001b[0m\n",
            "\u001b[1;32mc:\\Users\\ReStart\\AppData\\Local\\Programs\\Python\\Python36\\lib\\site-packages\\nltk\\data.py\u001b[0m in \u001b[0;36mfind\u001b[1;34m(resource_name, paths)\u001b[0m\n\u001b[0;32m    671\u001b[0m             \u001b[0mmodified_name\u001b[0m \u001b[1;33m=\u001b[0m \u001b[1;34m'/'\u001b[0m\u001b[1;33m.\u001b[0m\u001b[0mjoin\u001b[0m\u001b[1;33m(\u001b[0m\u001b[0mpieces\u001b[0m\u001b[1;33m[\u001b[0m\u001b[1;33m:\u001b[0m\u001b[0mi\u001b[0m\u001b[1;33m]\u001b[0m \u001b[1;33m+\u001b[0m \u001b[1;33m[\u001b[0m\u001b[0mpieces\u001b[0m\u001b[1;33m[\u001b[0m\u001b[0mi\u001b[0m\u001b[1;33m]\u001b[0m \u001b[1;33m+\u001b[0m \u001b[1;34m'.zip'\u001b[0m\u001b[1;33m]\u001b[0m \u001b[1;33m+\u001b[0m \u001b[0mpieces\u001b[0m\u001b[1;33m[\u001b[0m\u001b[0mi\u001b[0m\u001b[1;33m:\u001b[0m\u001b[1;33m]\u001b[0m\u001b[1;33m)\u001b[0m\u001b[1;33m\u001b[0m\u001b[1;33m\u001b[0m\u001b[0m\n\u001b[0;32m    672\u001b[0m             \u001b[1;32mtry\u001b[0m\u001b[1;33m:\u001b[0m\u001b[1;33m\u001b[0m\u001b[1;33m\u001b[0m\u001b[0m\n\u001b[1;32m--> 673\u001b[1;33m                 \u001b[1;32mreturn\u001b[0m \u001b[0mfind\u001b[0m\u001b[1;33m(\u001b[0m\u001b[0mmodified_name\u001b[0m\u001b[1;33m,\u001b[0m \u001b[0mpaths\u001b[0m\u001b[1;33m)\u001b[0m\u001b[1;33m\u001b[0m\u001b[1;33m\u001b[0m\u001b[0m\n\u001b[0m\u001b[0;32m    674\u001b[0m             \u001b[1;32mexcept\u001b[0m \u001b[0mLookupError\u001b[0m\u001b[1;33m:\u001b[0m\u001b[1;33m\u001b[0m\u001b[1;33m\u001b[0m\u001b[0m\n\u001b[0;32m    675\u001b[0m                 \u001b[1;32mpass\u001b[0m\u001b[1;33m\u001b[0m\u001b[1;33m\u001b[0m\u001b[0m\n",
            "\u001b[1;32mc:\\Users\\ReStart\\AppData\\Local\\Programs\\Python\\Python36\\lib\\site-packages\\nltk\\data.py\u001b[0m in \u001b[0;36mfind\u001b[1;34m(resource_name, paths)\u001b[0m\n\u001b[0;32m    658\u001b[0m                 \u001b[1;32mif\u001b[0m \u001b[0mos\u001b[0m\u001b[1;33m.\u001b[0m\u001b[0mpath\u001b[0m\u001b[1;33m.\u001b[0m\u001b[0mexists\u001b[0m\u001b[1;33m(\u001b[0m\u001b[0mp\u001b[0m\u001b[1;33m)\u001b[0m\u001b[1;33m:\u001b[0m\u001b[1;33m\u001b[0m\u001b[1;33m\u001b[0m\u001b[0m\n\u001b[0;32m    659\u001b[0m                     \u001b[1;32mtry\u001b[0m\u001b[1;33m:\u001b[0m\u001b[1;33m\u001b[0m\u001b[1;33m\u001b[0m\u001b[0m\n\u001b[1;32m--> 660\u001b[1;33m                         \u001b[1;32mreturn\u001b[0m \u001b[0mZipFilePathPointer\u001b[0m\u001b[1;33m(\u001b[0m\u001b[0mp\u001b[0m\u001b[1;33m,\u001b[0m \u001b[0mzipentry\u001b[0m\u001b[1;33m)\u001b[0m\u001b[1;33m\u001b[0m\u001b[1;33m\u001b[0m\u001b[0m\n\u001b[0m\u001b[0;32m    661\u001b[0m                     \u001b[1;32mexcept\u001b[0m \u001b[0mIOError\u001b[0m\u001b[1;33m:\u001b[0m\u001b[1;33m\u001b[0m\u001b[1;33m\u001b[0m\u001b[0m\n\u001b[0;32m    662\u001b[0m                         \u001b[1;31m# resource not in zipfile\u001b[0m\u001b[1;33m\u001b[0m\u001b[1;33m\u001b[0m\u001b[1;33m\u001b[0m\u001b[0m\n",
            "\u001b[1;32mc:\\Users\\ReStart\\AppData\\Local\\Programs\\Python\\Python36\\lib\\site-packages\\nltk\\compat.py\u001b[0m in \u001b[0;36m_decorator\u001b[1;34m(*args, **kwargs)\u001b[0m\n\u001b[0;32m    226\u001b[0m     \u001b[1;32mdef\u001b[0m \u001b[0m_decorator\u001b[0m\u001b[1;33m(\u001b[0m\u001b[1;33m*\u001b[0m\u001b[0margs\u001b[0m\u001b[1;33m,\u001b[0m \u001b[1;33m**\u001b[0m\u001b[0mkwargs\u001b[0m\u001b[1;33m)\u001b[0m\u001b[1;33m:\u001b[0m\u001b[1;33m\u001b[0m\u001b[1;33m\u001b[0m\u001b[0m\n\u001b[0;32m    227\u001b[0m         \u001b[0margs\u001b[0m \u001b[1;33m=\u001b[0m \u001b[1;33m(\u001b[0m\u001b[0margs\u001b[0m\u001b[1;33m[\u001b[0m\u001b[1;36m0\u001b[0m\u001b[1;33m]\u001b[0m\u001b[1;33m,\u001b[0m \u001b[0madd_py3_data\u001b[0m\u001b[1;33m(\u001b[0m\u001b[0margs\u001b[0m\u001b[1;33m[\u001b[0m\u001b[1;36m1\u001b[0m\u001b[1;33m]\u001b[0m\u001b[1;33m)\u001b[0m\u001b[1;33m)\u001b[0m \u001b[1;33m+\u001b[0m \u001b[0margs\u001b[0m\u001b[1;33m[\u001b[0m\u001b[1;36m2\u001b[0m\u001b[1;33m:\u001b[0m\u001b[1;33m]\u001b[0m\u001b[1;33m\u001b[0m\u001b[1;33m\u001b[0m\u001b[0m\n\u001b[1;32m--> 228\u001b[1;33m         \u001b[1;32mreturn\u001b[0m \u001b[0minit_func\u001b[0m\u001b[1;33m(\u001b[0m\u001b[1;33m*\u001b[0m\u001b[0margs\u001b[0m\u001b[1;33m,\u001b[0m \u001b[1;33m**\u001b[0m\u001b[0mkwargs\u001b[0m\u001b[1;33m)\u001b[0m\u001b[1;33m\u001b[0m\u001b[1;33m\u001b[0m\u001b[0m\n\u001b[0m\u001b[0;32m    229\u001b[0m \u001b[1;33m\u001b[0m\u001b[0m\n\u001b[0;32m    230\u001b[0m     \u001b[1;32mreturn\u001b[0m \u001b[0mwraps\u001b[0m\u001b[1;33m(\u001b[0m\u001b[0minit_func\u001b[0m\u001b[1;33m)\u001b[0m\u001b[1;33m(\u001b[0m\u001b[0m_decorator\u001b[0m\u001b[1;33m)\u001b[0m\u001b[1;33m\u001b[0m\u001b[1;33m\u001b[0m\u001b[0m\n",
            "\u001b[1;32mc:\\Users\\ReStart\\AppData\\Local\\Programs\\Python\\Python36\\lib\\site-packages\\nltk\\data.py\u001b[0m in \u001b[0;36m__init__\u001b[1;34m(self, zipfile, entry)\u001b[0m\n\u001b[0;32m    504\u001b[0m         \"\"\"\n\u001b[0;32m    505\u001b[0m         \u001b[1;32mif\u001b[0m \u001b[0misinstance\u001b[0m\u001b[1;33m(\u001b[0m\u001b[0mzipfile\u001b[0m\u001b[1;33m,\u001b[0m \u001b[0mstring_types\u001b[0m\u001b[1;33m)\u001b[0m\u001b[1;33m:\u001b[0m\u001b[1;33m\u001b[0m\u001b[1;33m\u001b[0m\u001b[0m\n\u001b[1;32m--> 506\u001b[1;33m             \u001b[0mzipfile\u001b[0m \u001b[1;33m=\u001b[0m \u001b[0mOpenOnDemandZipFile\u001b[0m\u001b[1;33m(\u001b[0m\u001b[0mos\u001b[0m\u001b[1;33m.\u001b[0m\u001b[0mpath\u001b[0m\u001b[1;33m.\u001b[0m\u001b[0mabspath\u001b[0m\u001b[1;33m(\u001b[0m\u001b[0mzipfile\u001b[0m\u001b[1;33m)\u001b[0m\u001b[1;33m)\u001b[0m\u001b[1;33m\u001b[0m\u001b[1;33m\u001b[0m\u001b[0m\n\u001b[0m\u001b[0;32m    507\u001b[0m \u001b[1;33m\u001b[0m\u001b[0m\n\u001b[0;32m    508\u001b[0m         \u001b[1;31m# Check that the entry exists:\u001b[0m\u001b[1;33m\u001b[0m\u001b[1;33m\u001b[0m\u001b[1;33m\u001b[0m\u001b[0m\n",
            "\u001b[1;32mc:\\Users\\ReStart\\AppData\\Local\\Programs\\Python\\Python36\\lib\\site-packages\\nltk\\compat.py\u001b[0m in \u001b[0;36m_decorator\u001b[1;34m(*args, **kwargs)\u001b[0m\n\u001b[0;32m    226\u001b[0m     \u001b[1;32mdef\u001b[0m \u001b[0m_decorator\u001b[0m\u001b[1;33m(\u001b[0m\u001b[1;33m*\u001b[0m\u001b[0margs\u001b[0m\u001b[1;33m,\u001b[0m \u001b[1;33m**\u001b[0m\u001b[0mkwargs\u001b[0m\u001b[1;33m)\u001b[0m\u001b[1;33m:\u001b[0m\u001b[1;33m\u001b[0m\u001b[1;33m\u001b[0m\u001b[0m\n\u001b[0;32m    227\u001b[0m         \u001b[0margs\u001b[0m \u001b[1;33m=\u001b[0m \u001b[1;33m(\u001b[0m\u001b[0margs\u001b[0m\u001b[1;33m[\u001b[0m\u001b[1;36m0\u001b[0m\u001b[1;33m]\u001b[0m\u001b[1;33m,\u001b[0m \u001b[0madd_py3_data\u001b[0m\u001b[1;33m(\u001b[0m\u001b[0margs\u001b[0m\u001b[1;33m[\u001b[0m\u001b[1;36m1\u001b[0m\u001b[1;33m]\u001b[0m\u001b[1;33m)\u001b[0m\u001b[1;33m)\u001b[0m \u001b[1;33m+\u001b[0m \u001b[0margs\u001b[0m\u001b[1;33m[\u001b[0m\u001b[1;36m2\u001b[0m\u001b[1;33m:\u001b[0m\u001b[1;33m]\u001b[0m\u001b[1;33m\u001b[0m\u001b[1;33m\u001b[0m\u001b[0m\n\u001b[1;32m--> 228\u001b[1;33m         \u001b[1;32mreturn\u001b[0m \u001b[0minit_func\u001b[0m\u001b[1;33m(\u001b[0m\u001b[1;33m*\u001b[0m\u001b[0margs\u001b[0m\u001b[1;33m,\u001b[0m \u001b[1;33m**\u001b[0m\u001b[0mkwargs\u001b[0m\u001b[1;33m)\u001b[0m\u001b[1;33m\u001b[0m\u001b[1;33m\u001b[0m\u001b[0m\n\u001b[0m\u001b[0;32m    229\u001b[0m \u001b[1;33m\u001b[0m\u001b[0m\n\u001b[0;32m    230\u001b[0m     \u001b[1;32mreturn\u001b[0m \u001b[0mwraps\u001b[0m\u001b[1;33m(\u001b[0m\u001b[0minit_func\u001b[0m\u001b[1;33m)\u001b[0m\u001b[1;33m(\u001b[0m\u001b[0m_decorator\u001b[0m\u001b[1;33m)\u001b[0m\u001b[1;33m\u001b[0m\u001b[1;33m\u001b[0m\u001b[0m\n",
            "\u001b[1;32mc:\\Users\\ReStart\\AppData\\Local\\Programs\\Python\\Python36\\lib\\site-packages\\nltk\\data.py\u001b[0m in \u001b[0;36m__init__\u001b[1;34m(self, filename)\u001b[0m\n\u001b[0;32m   1053\u001b[0m         \u001b[1;32mif\u001b[0m \u001b[1;32mnot\u001b[0m \u001b[0misinstance\u001b[0m\u001b[1;33m(\u001b[0m\u001b[0mfilename\u001b[0m\u001b[1;33m,\u001b[0m \u001b[0mstring_types\u001b[0m\u001b[1;33m)\u001b[0m\u001b[1;33m:\u001b[0m\u001b[1;33m\u001b[0m\u001b[1;33m\u001b[0m\u001b[0m\n\u001b[0;32m   1054\u001b[0m             \u001b[1;32mraise\u001b[0m \u001b[0mTypeError\u001b[0m\u001b[1;33m(\u001b[0m\u001b[1;34m'ReopenableZipFile filename must be a string'\u001b[0m\u001b[1;33m)\u001b[0m\u001b[1;33m\u001b[0m\u001b[1;33m\u001b[0m\u001b[0m\n\u001b[1;32m-> 1055\u001b[1;33m         \u001b[0mzipfile\u001b[0m\u001b[1;33m.\u001b[0m\u001b[0mZipFile\u001b[0m\u001b[1;33m.\u001b[0m\u001b[0m__init__\u001b[0m\u001b[1;33m(\u001b[0m\u001b[0mself\u001b[0m\u001b[1;33m,\u001b[0m \u001b[0mfilename\u001b[0m\u001b[1;33m)\u001b[0m\u001b[1;33m\u001b[0m\u001b[1;33m\u001b[0m\u001b[0m\n\u001b[0m\u001b[0;32m   1056\u001b[0m         \u001b[1;32massert\u001b[0m \u001b[0mself\u001b[0m\u001b[1;33m.\u001b[0m\u001b[0mfilename\u001b[0m \u001b[1;33m==\u001b[0m \u001b[0mfilename\u001b[0m\u001b[1;33m\u001b[0m\u001b[1;33m\u001b[0m\u001b[0m\n\u001b[0;32m   1057\u001b[0m         \u001b[0mself\u001b[0m\u001b[1;33m.\u001b[0m\u001b[0mclose\u001b[0m\u001b[1;33m(\u001b[0m\u001b[1;33m)\u001b[0m\u001b[1;33m\u001b[0m\u001b[1;33m\u001b[0m\u001b[0m\n",
            "\u001b[1;32mc:\\Users\\ReStart\\AppData\\Local\\Programs\\Python\\Python36\\lib\\zipfile.py\u001b[0m in \u001b[0;36m__init__\u001b[1;34m(self, file, mode, compression, allowZip64)\u001b[0m\n\u001b[0;32m   1129\u001b[0m         \u001b[1;32mtry\u001b[0m\u001b[1;33m:\u001b[0m\u001b[1;33m\u001b[0m\u001b[1;33m\u001b[0m\u001b[0m\n\u001b[0;32m   1130\u001b[0m             \u001b[1;32mif\u001b[0m \u001b[0mmode\u001b[0m \u001b[1;33m==\u001b[0m \u001b[1;34m'r'\u001b[0m\u001b[1;33m:\u001b[0m\u001b[1;33m\u001b[0m\u001b[1;33m\u001b[0m\u001b[0m\n\u001b[1;32m-> 1131\u001b[1;33m                 \u001b[0mself\u001b[0m\u001b[1;33m.\u001b[0m\u001b[0m_RealGetContents\u001b[0m\u001b[1;33m(\u001b[0m\u001b[1;33m)\u001b[0m\u001b[1;33m\u001b[0m\u001b[1;33m\u001b[0m\u001b[0m\n\u001b[0m\u001b[0;32m   1132\u001b[0m             \u001b[1;32melif\u001b[0m \u001b[0mmode\u001b[0m \u001b[1;32min\u001b[0m \u001b[1;33m(\u001b[0m\u001b[1;34m'w'\u001b[0m\u001b[1;33m,\u001b[0m \u001b[1;34m'x'\u001b[0m\u001b[1;33m)\u001b[0m\u001b[1;33m:\u001b[0m\u001b[1;33m\u001b[0m\u001b[1;33m\u001b[0m\u001b[0m\n\u001b[0;32m   1133\u001b[0m                 \u001b[1;31m# set the modified flag so central directory gets written\u001b[0m\u001b[1;33m\u001b[0m\u001b[1;33m\u001b[0m\u001b[1;33m\u001b[0m\u001b[0m\n",
            "\u001b[1;32mc:\\Users\\ReStart\\AppData\\Local\\Programs\\Python\\Python36\\lib\\zipfile.py\u001b[0m in \u001b[0;36m_RealGetContents\u001b[1;34m(self)\u001b[0m\n\u001b[0;32m   1196\u001b[0m             \u001b[1;32mraise\u001b[0m \u001b[0mBadZipFile\u001b[0m\u001b[1;33m(\u001b[0m\u001b[1;34m\"File is not a zip file\"\u001b[0m\u001b[1;33m)\u001b[0m\u001b[1;33m\u001b[0m\u001b[1;33m\u001b[0m\u001b[0m\n\u001b[0;32m   1197\u001b[0m         \u001b[1;32mif\u001b[0m \u001b[1;32mnot\u001b[0m \u001b[0mendrec\u001b[0m\u001b[1;33m:\u001b[0m\u001b[1;33m\u001b[0m\u001b[1;33m\u001b[0m\u001b[0m\n\u001b[1;32m-> 1198\u001b[1;33m             \u001b[1;32mraise\u001b[0m \u001b[0mBadZipFile\u001b[0m\u001b[1;33m(\u001b[0m\u001b[1;34m\"File is not a zip file\"\u001b[0m\u001b[1;33m)\u001b[0m\u001b[1;33m\u001b[0m\u001b[1;33m\u001b[0m\u001b[0m\n\u001b[0m\u001b[0;32m   1199\u001b[0m         \u001b[1;32mif\u001b[0m \u001b[0mself\u001b[0m\u001b[1;33m.\u001b[0m\u001b[0mdebug\u001b[0m \u001b[1;33m>\u001b[0m \u001b[1;36m1\u001b[0m\u001b[1;33m:\u001b[0m\u001b[1;33m\u001b[0m\u001b[1;33m\u001b[0m\u001b[0m\n\u001b[0;32m   1200\u001b[0m             \u001b[0mprint\u001b[0m\u001b[1;33m(\u001b[0m\u001b[0mendrec\u001b[0m\u001b[1;33m)\u001b[0m\u001b[1;33m\u001b[0m\u001b[1;33m\u001b[0m\u001b[0m\n",
            "\u001b[1;31mBadZipFile\u001b[0m: File is not a zip file"
          ]
        }
      ],
      "source": [
        "import random\n",
        "import numpy as np\n",
        "\n",
        "# create our training data\n",
        "training = []\n",
        "# create an empty array for our output\n",
        "output_empty = [0] * len(classes)\n",
        "# training set, bag of words for each sentence\n",
        "for doc in documents:\n",
        "    # initialize our bag of words\n",
        "    bag = []\n",
        "    # list of tokenized words for the pattern\n",
        "    pattern_words = doc[0]\n",
        "    # lemmatize each word - create base word, in attempt to represent related words\n",
        "    pattern_words = [lemmatizer.lemmatize(word.lower()) for word in pattern_words]\n",
        "    # create our bag of words array with 1, if word match found in current pattern\n",
        "    for w in words:\n",
        "        bag.append(1) if w in pattern_words else bag.append(0)\n",
        "    \n",
        "    # output is a '0' for each tag and '1' for current tag (for each pattern)\n",
        "    output_row = list(output_empty)\n",
        "    output_row[classes.index(doc[1])] = 1\n",
        "    \n",
        "    training.append([bag, output_row])\n",
        "# shuffle our features and turn into np.array\n",
        "random.shuffle(training)\n",
        "training = np.array(training)\n",
        "# create train and test lists. X - patterns, Y - intents\n",
        "train_x = list(training[:,0])\n",
        "train_y = list(training[:,1])\n",
        "print(\"Training data created\")\n"
      ]
    },
    {
      "cell_type": "code",
      "execution_count": 20,
      "metadata": {
        "id": "oXHd9jrngXq4"
      },
      "outputs": [],
      "source": [
        "from tensorflow.python.framework import ops\n",
        "ops.reset_default_graph()"
      ]
    },
    {
      "cell_type": "code",
      "execution_count": 26,
      "metadata": {
        "colab": {
          "base_uri": "https://localhost:8080/",
          "height": 88
        },
        "id": "gS_iV4yPjgA5",
        "outputId": "ed6c63fe-b9b5-4e54-9260-69b505f4616f"
      },
      "outputs": [
        {
          "ename": "NameError",
          "evalue": "name 'train_x' is not defined",
          "output_type": "error",
          "traceback": [
            "\u001b[1;31m---------------------------------------------------------------------------\u001b[0m",
            "\u001b[1;31mNameError\u001b[0m                                 Traceback (most recent call last)",
            "\u001b[1;32m<ipython-input-26-007bab851897>\u001b[0m in \u001b[0;36m<module>\u001b[1;34m\u001b[0m\n\u001b[0;32m      6\u001b[0m \u001b[1;31m# equal to number of intents to predict output intent with softmax\u001b[0m\u001b[1;33m\u001b[0m\u001b[1;33m\u001b[0m\u001b[1;33m\u001b[0m\u001b[0m\n\u001b[0;32m      7\u001b[0m \u001b[0mmodel\u001b[0m \u001b[1;33m=\u001b[0m \u001b[0mSequential\u001b[0m\u001b[1;33m(\u001b[0m\u001b[1;33m)\u001b[0m\u001b[1;33m\u001b[0m\u001b[1;33m\u001b[0m\u001b[0m\n\u001b[1;32m----> 8\u001b[1;33m \u001b[0mmodel\u001b[0m\u001b[1;33m.\u001b[0m\u001b[0madd\u001b[0m\u001b[1;33m(\u001b[0m\u001b[0mDense\u001b[0m\u001b[1;33m(\u001b[0m\u001b[1;36m128\u001b[0m\u001b[1;33m,\u001b[0m \u001b[0minput_shape\u001b[0m\u001b[1;33m=\u001b[0m\u001b[1;33m(\u001b[0m\u001b[0mlen\u001b[0m\u001b[1;33m(\u001b[0m\u001b[0mtrain_x\u001b[0m\u001b[1;33m[\u001b[0m\u001b[1;36m0\u001b[0m\u001b[1;33m]\u001b[0m\u001b[1;33m)\u001b[0m\u001b[1;33m,\u001b[0m\u001b[1;33m)\u001b[0m\u001b[1;33m,\u001b[0m \u001b[0mactivation\u001b[0m\u001b[1;33m=\u001b[0m\u001b[1;34m'relu'\u001b[0m\u001b[1;33m)\u001b[0m\u001b[1;33m)\u001b[0m\u001b[1;33m\u001b[0m\u001b[1;33m\u001b[0m\u001b[0m\n\u001b[0m\u001b[0;32m      9\u001b[0m \u001b[0mmodel\u001b[0m\u001b[1;33m.\u001b[0m\u001b[0madd\u001b[0m\u001b[1;33m(\u001b[0m\u001b[0mDropout\u001b[0m\u001b[1;33m(\u001b[0m\u001b[1;36m0.5\u001b[0m\u001b[1;33m)\u001b[0m\u001b[1;33m)\u001b[0m\u001b[1;33m\u001b[0m\u001b[1;33m\u001b[0m\u001b[0m\n\u001b[0;32m     10\u001b[0m \u001b[0mmodel\u001b[0m\u001b[1;33m.\u001b[0m\u001b[0madd\u001b[0m\u001b[1;33m(\u001b[0m\u001b[0mDense\u001b[0m\u001b[1;33m(\u001b[0m\u001b[1;36m64\u001b[0m\u001b[1;33m,\u001b[0m \u001b[0mactivation\u001b[0m\u001b[1;33m=\u001b[0m\u001b[1;34m'relu'\u001b[0m\u001b[1;33m)\u001b[0m\u001b[1;33m)\u001b[0m\u001b[1;33m\u001b[0m\u001b[1;33m\u001b[0m\u001b[0m\n",
            "\u001b[1;31mNameError\u001b[0m: name 'train_x' is not defined"
          ]
        }
      ],
      "source": [
        "from keras.models import Sequential\n",
        "from tensorflow.keras.layers import Dense\n",
        "from keras.layers import Dropout\n",
        "\n",
        "# Create model - 3 layers. First layer 128 neurons, second layer 64 neurons and 3rd output layer contains number of neurons\n",
        "# equal to number of intents to predict output intent with softmax\n",
        "model = Sequential()\n",
        "model.add(Dense(128, input_shape=(len(train_x[0]),), activation='relu'))\n",
        "model.add(Dropout(0.5))\n",
        "model.add(Dense(64, activation='relu'))\n",
        "model.add(Dropout(0.5))\n",
        "model.add(Dense(len(train_y[0]), activation='softmax'))"
      ]
    },
    {
      "cell_type": "code",
      "execution_count": 26,
      "metadata": {
        "id": "90wpa9aSjloD"
      },
      "outputs": [],
      "source": [
        "from tensorflow.keras.optimizers import SGD\n",
        "\n",
        "# Compile model. Stochastic gradient descent with Nesterov accelerated gradient gives good results for this model\n",
        "sgd = SGD(lr=0.01, decay=1e-6, momentum=0.9, nesterov=True)\n",
        "model.compile(loss='categorical_crossentropy', optimizer=sgd, metrics=['accuracy'])"
      ]
    },
    {
      "cell_type": "code",
      "execution_count": 27,
      "metadata": {
        "colab": {
          "base_uri": "https://localhost:8080/",
          "height": 1000
        },
        "id": "MQkD1_wdj4_0",
        "outputId": "7c115811-0300-4595-ccf9-bad88ef6a4bd"
      },
      "outputs": [
        {
          "name": "stdout",
          "output_type": "stream",
          "text": [
            "Epoch 1/200\n",
            "34/34 [==============================] - 2s 6ms/step - loss: 3.3442 - accuracy: 0.0592\n",
            "Epoch 2/200\n",
            "34/34 [==============================] - 0s 6ms/step - loss: 3.1530 - accuracy: 0.0947: 0s - loss: 3.1598 - accuracy: 0.09\n",
            "Epoch 3/200\n",
            "34/34 [==============================] - 0s 7ms/step - loss: 2.9031 - accuracy: 0.1657\n",
            "Epoch 4/200\n",
            "34/34 [==============================] - 0s 7ms/step - loss: 2.7242 - accuracy: 0.3018\n",
            "Epoch 5/200\n",
            "34/34 [==============================] - 0s 7ms/step - loss: 2.5671 - accuracy: 0.3077\n",
            "Epoch 6/200\n",
            "34/34 [==============================] - 0s 10ms/step - loss: 2.2624 - accuracy: 0.3669\n",
            "Epoch 7/200\n",
            "34/34 [==============================] - 0s 11ms/step - loss: 2.2215 - accuracy: 0.3550\n",
            "Epoch 8/200\n",
            "34/34 [==============================] - 0s 11ms/step - loss: 2.0842 - accuracy: 0.3787\n",
            "Epoch 9/200\n",
            "34/34 [==============================] - 0s 6ms/step - loss: 2.0399 - accuracy: 0.3964\n",
            "Epoch 10/200\n",
            "34/34 [==============================] - 0s 7ms/step - loss: 1.7910 - accuracy: 0.4852\n",
            "Epoch 11/200\n",
            "34/34 [==============================] - 0s 8ms/step - loss: 1.7228 - accuracy: 0.4734TA: 0s - loss: 1.8010 - accuracy: 0.\n",
            "Epoch 12/200\n",
            "34/34 [==============================] - 0s 6ms/step - loss: 1.5965 - accuracy: 0.5089\n",
            "Epoch 13/200\n",
            "34/34 [==============================] - 0s 9ms/step - loss: 1.4334 - accuracy: 0.5385\n",
            "Epoch 14/200\n",
            "34/34 [==============================] - 0s 10ms/step - loss: 1.4633 - accuracy: 0.5030\n",
            "Epoch 15/200\n",
            "34/34 [==============================] - 0s 7ms/step - loss: 1.3296 - accuracy: 0.5680\n",
            "Epoch 16/200\n",
            "34/34 [==============================] - 0s 8ms/step - loss: 1.3476 - accuracy: 0.5799\n",
            "Epoch 17/200\n",
            "34/34 [==============================] - 0s 9ms/step - loss: 1.3601 - accuracy: 0.5680\n",
            "Epoch 18/200\n",
            "34/34 [==============================] - 0s 12ms/step - loss: 1.1183 - accuracy: 0.6627\n",
            "Epoch 19/200\n",
            "34/34 [==============================] - 0s 8ms/step - loss: 1.1408 - accuracy: 0.6864: 0s - loss: 0.9479 - accuracy: \n",
            "Epoch 20/200\n",
            "34/34 [==============================] - 0s 9ms/step - loss: 1.0492 - accuracy: 0.6982\n",
            "Epoch 21/200\n",
            "34/34 [==============================] - 0s 10ms/step - loss: 0.9973 - accuracy: 0.6982\n",
            "Epoch 22/200\n",
            "34/34 [==============================] - 0s 7ms/step - loss: 0.8479 - accuracy: 0.7219\n",
            "Epoch 23/200\n",
            "34/34 [==============================] - 0s 7ms/step - loss: 0.9163 - accuracy: 0.7278\n",
            "Epoch 24/200\n",
            "34/34 [==============================] - 0s 8ms/step - loss: 0.8625 - accuracy: 0.7278\n",
            "Epoch 25/200\n",
            "34/34 [==============================] - 0s 8ms/step - loss: 0.8389 - accuracy: 0.7278\n",
            "Epoch 26/200\n",
            "34/34 [==============================] - 0s 7ms/step - loss: 0.7188 - accuracy: 0.7929\n",
            "Epoch 27/200\n",
            "34/34 [==============================] - 0s 8ms/step - loss: 0.7794 - accuracy: 0.7456\n",
            "Epoch 28/200\n",
            "34/34 [==============================] - 0s 9ms/step - loss: 0.6056 - accuracy: 0.7870\n",
            "Epoch 29/200\n",
            "34/34 [==============================] - 0s 9ms/step - loss: 0.6805 - accuracy: 0.7751: 0s - loss: 0.5569 - accuracy: \n",
            "Epoch 30/200\n",
            "34/34 [==============================] - 0s 7ms/step - loss: 0.5578 - accuracy: 0.8402: 0s - loss: 0.5310 - accuracy: \n",
            "Epoch 31/200\n",
            "34/34 [==============================] - 0s 5ms/step - loss: 0.6051 - accuracy: 0.8166\n",
            "Epoch 32/200\n",
            "34/34 [==============================] - 0s 9ms/step - loss: 0.6265 - accuracy: 0.8047\n",
            "Epoch 33/200\n",
            "34/34 [==============================] - 0s 7ms/step - loss: 0.5985 - accuracy: 0.8166\n",
            "Epoch 34/200\n",
            "34/34 [==============================] - 0s 7ms/step - loss: 0.5142 - accuracy: 0.8284\n",
            "Epoch 35/200\n",
            "34/34 [==============================] - 0s 8ms/step - loss: 0.5420 - accuracy: 0.8343\n",
            "Epoch 36/200\n",
            "34/34 [==============================] - 0s 6ms/step - loss: 0.5212 - accuracy: 0.8343\n",
            "Epoch 37/200\n",
            "34/34 [==============================] - 0s 7ms/step - loss: 0.4689 - accuracy: 0.8402\n",
            "Epoch 38/200\n",
            "34/34 [==============================] - 0s 10ms/step - loss: 0.4796 - accuracy: 0.8580\n",
            "Epoch 39/200\n",
            "34/34 [==============================] - 0s 9ms/step - loss: 0.5703 - accuracy: 0.8284\n",
            "Epoch 40/200\n",
            "34/34 [==============================] - 0s 7ms/step - loss: 0.4055 - accuracy: 0.8580\n",
            "Epoch 41/200\n",
            "34/34 [==============================] - 0s 8ms/step - loss: 0.5138 - accuracy: 0.8284\n",
            "Epoch 42/200\n",
            "34/34 [==============================] - 0s 12ms/step - loss: 0.4053 - accuracy: 0.8698\n",
            "Epoch 43/200\n",
            "34/34 [==============================] - 0s 7ms/step - loss: 0.3958 - accuracy: 0.8698\n",
            "Epoch 44/200\n",
            "34/34 [==============================] - 0s 7ms/step - loss: 0.4879 - accuracy: 0.8402: 0s - loss: 0.4879 - accuracy: 0.84\n",
            "Epoch 45/200\n",
            "34/34 [==============================] - 0s 11ms/step - loss: 0.4105 - accuracy: 0.8817\n",
            "Epoch 46/200\n",
            "34/34 [==============================] - 0s 9ms/step - loss: 0.4525 - accuracy: 0.8580\n",
            "Epoch 47/200\n",
            "34/34 [==============================] - 0s 7ms/step - loss: 0.4544 - accuracy: 0.8698\n",
            "Epoch 48/200\n",
            "34/34 [==============================] - 0s 9ms/step - loss: 0.4492 - accuracy: 0.8402\n",
            "Epoch 49/200\n",
            "34/34 [==============================] - 0s 10ms/step - loss: 0.4047 - accuracy: 0.8698\n",
            "Epoch 50/200\n",
            "34/34 [==============================] - 0s 8ms/step - loss: 0.3482 - accuracy: 0.8994\n",
            "Epoch 51/200\n",
            "34/34 [==============================] - 0s 10ms/step - loss: 0.4638 - accuracy: 0.8521\n",
            "Epoch 52/200\n",
            "34/34 [==============================] - 0s 8ms/step - loss: 0.5243 - accuracy: 0.8462: 0s - loss: 0.5452 - accuracy: 0.83\n",
            "Epoch 53/200\n",
            "34/34 [==============================] - 0s 11ms/step - loss: 0.3433 - accuracy: 0.8935\n",
            "Epoch 54/200\n",
            "34/34 [==============================] - 0s 8ms/step - loss: 0.3139 - accuracy: 0.9053\n",
            "Epoch 55/200\n",
            "34/34 [==============================] - 0s 6ms/step - loss: 0.2935 - accuracy: 0.9053\n",
            "Epoch 56/200\n",
            "34/34 [==============================] - 0s 9ms/step - loss: 0.3505 - accuracy: 0.8757\n",
            "Epoch 57/200\n",
            "34/34 [==============================] - 0s 6ms/step - loss: 0.3814 - accuracy: 0.8757\n",
            "Epoch 58/200\n",
            "34/34 [==============================] - 0s 6ms/step - loss: 0.3611 - accuracy: 0.8876\n",
            "Epoch 59/200\n",
            "34/34 [==============================] - 0s 6ms/step - loss: 0.2655 - accuracy: 0.8935\n",
            "Epoch 60/200\n",
            "34/34 [==============================] - 0s 6ms/step - loss: 0.3669 - accuracy: 0.8639\n",
            "Epoch 61/200\n",
            "34/34 [==============================] - 0s 5ms/step - loss: 0.3232 - accuracy: 0.9172\n",
            "Epoch 62/200\n",
            "34/34 [==============================] - 0s 6ms/step - loss: 0.3288 - accuracy: 0.8935\n",
            "Epoch 63/200\n",
            "34/34 [==============================] - 0s 5ms/step - loss: 0.3165 - accuracy: 0.9053\n",
            "Epoch 64/200\n",
            "34/34 [==============================] - 0s 6ms/step - loss: 0.2971 - accuracy: 0.9053\n",
            "Epoch 65/200\n",
            "34/34 [==============================] - 0s 8ms/step - loss: 0.2577 - accuracy: 0.8935\n",
            "Epoch 66/200\n",
            "34/34 [==============================] - 0s 7ms/step - loss: 0.3255 - accuracy: 0.8698\n",
            "Epoch 67/200\n",
            "34/34 [==============================] - 0s 9ms/step - loss: 0.2804 - accuracy: 0.9112\n",
            "Epoch 68/200\n",
            "34/34 [==============================] - 0s 6ms/step - loss: 0.2519 - accuracy: 0.9053\n",
            "Epoch 69/200\n",
            "34/34 [==============================] - 0s 6ms/step - loss: 0.2250 - accuracy: 0.9408\n",
            "Epoch 70/200\n",
            "34/34 [==============================] - 0s 6ms/step - loss: 0.1886 - accuracy: 0.9408\n",
            "Epoch 71/200\n",
            "34/34 [==============================] - 0s 9ms/step - loss: 0.1913 - accuracy: 0.9349\n",
            "Epoch 72/200\n",
            "34/34 [==============================] - 0s 8ms/step - loss: 0.3553 - accuracy: 0.8817\n",
            "Epoch 73/200\n",
            "34/34 [==============================] - 0s 6ms/step - loss: 0.2545 - accuracy: 0.9112\n",
            "Epoch 74/200\n",
            "34/34 [==============================] - 0s 7ms/step - loss: 0.2673 - accuracy: 0.8994\n",
            "Epoch 75/200\n",
            "34/34 [==============================] - 0s 7ms/step - loss: 0.3013 - accuracy: 0.9290\n",
            "Epoch 76/200\n",
            "34/34 [==============================] - 0s 9ms/step - loss: 0.2382 - accuracy: 0.9172\n",
            "Epoch 77/200\n",
            "34/34 [==============================] - 0s 6ms/step - loss: 0.2211 - accuracy: 0.9290: 0s - loss: 0.2857 - accuracy: 0. - ETA: 0s - loss: 0.2365 - accuracy: 0.92\n",
            "Epoch 78/200\n",
            "34/34 [==============================] - 0s 6ms/step - loss: 0.2586 - accuracy: 0.9172\n",
            "Epoch 79/200\n",
            "34/34 [==============================] - 0s 10ms/step - loss: 0.3250 - accuracy: 0.8935\n",
            "Epoch 80/200\n",
            "34/34 [==============================] - 0s 8ms/step - loss: 0.2454 - accuracy: 0.9172\n",
            "Epoch 81/200\n",
            "34/34 [==============================] - 0s 8ms/step - loss: 0.2819 - accuracy: 0.9053\n",
            "Epoch 82/200\n",
            "34/34 [==============================] - 0s 10ms/step - loss: 0.2457 - accuracy: 0.9231\n",
            "Epoch 83/200\n",
            "34/34 [==============================] - 0s 9ms/step - loss: 0.1840 - accuracy: 0.9527\n",
            "Epoch 84/200\n",
            "34/34 [==============================] - 0s 5ms/step - loss: 0.2893 - accuracy: 0.9112\n",
            "Epoch 85/200\n",
            "34/34 [==============================] - 0s 6ms/step - loss: 0.2336 - accuracy: 0.9408\n",
            "Epoch 86/200\n",
            "34/34 [==============================] - 0s 5ms/step - loss: 0.2927 - accuracy: 0.9172\n",
            "Epoch 87/200\n",
            "34/34 [==============================] - 0s 7ms/step - loss: 0.2854 - accuracy: 0.8876\n",
            "Epoch 88/200\n",
            "34/34 [==============================] - 0s 6ms/step - loss: 0.1882 - accuracy: 0.9349: 0s - loss: 0.1859 - accuracy: \n",
            "Epoch 89/200\n",
            "34/34 [==============================] - 0s 6ms/step - loss: 0.2840 - accuracy: 0.9231\n",
            "Epoch 90/200\n",
            "34/34 [==============================] - 0s 7ms/step - loss: 0.1903 - accuracy: 0.9290\n",
            "Epoch 91/200\n",
            "34/34 [==============================] - 0s 7ms/step - loss: 0.2109 - accuracy: 0.9290\n",
            "Epoch 92/200\n",
            "34/34 [==============================] - 0s 6ms/step - loss: 0.2394 - accuracy: 0.9290\n",
            "Epoch 93/200\n",
            "34/34 [==============================] - 0s 6ms/step - loss: 0.2025 - accuracy: 0.9231\n",
            "Epoch 94/200\n",
            "34/34 [==============================] - 0s 5ms/step - loss: 0.1918 - accuracy: 0.9408\n",
            "Epoch 95/200\n",
            "34/34 [==============================] - 0s 6ms/step - loss: 0.1610 - accuracy: 0.9290\n",
            "Epoch 96/200\n",
            "34/34 [==============================] - 0s 5ms/step - loss: 0.1822 - accuracy: 0.9349\n",
            "Epoch 97/200\n",
            "34/34 [==============================] - 0s 6ms/step - loss: 0.1608 - accuracy: 0.9408\n",
            "Epoch 98/200\n",
            "34/34 [==============================] - 0s 6ms/step - loss: 0.1277 - accuracy: 0.9586\n",
            "Epoch 99/200\n",
            "34/34 [==============================] - 0s 5ms/step - loss: 0.2027 - accuracy: 0.9349\n",
            "Epoch 100/200\n",
            "34/34 [==============================] - 0s 7ms/step - loss: 0.1715 - accuracy: 0.9408\n",
            "Epoch 101/200\n",
            "34/34 [==============================] - 0s 7ms/step - loss: 0.2265 - accuracy: 0.9349\n",
            "Epoch 102/200\n",
            "34/34 [==============================] - 0s 5ms/step - loss: 0.1896 - accuracy: 0.9349\n",
            "Epoch 103/200\n",
            "34/34 [==============================] - 0s 6ms/step - loss: 0.1415 - accuracy: 0.9467\n",
            "Epoch 104/200\n",
            "34/34 [==============================] - 0s 7ms/step - loss: 0.2101 - accuracy: 0.9231\n",
            "Epoch 105/200\n",
            "34/34 [==============================] - 0s 6ms/step - loss: 0.2609 - accuracy: 0.8817\n",
            "Epoch 106/200\n",
            "34/34 [==============================] - 0s 5ms/step - loss: 0.1665 - accuracy: 0.9527\n",
            "Epoch 107/200\n",
            "34/34 [==============================] - 0s 4ms/step - loss: 0.1854 - accuracy: 0.9349\n",
            "Epoch 108/200\n",
            "34/34 [==============================] - 0s 7ms/step - loss: 0.1643 - accuracy: 0.9467\n",
            "Epoch 109/200\n",
            "34/34 [==============================] - 0s 6ms/step - loss: 0.1964 - accuracy: 0.9349\n",
            "Epoch 110/200\n",
            "34/34 [==============================] - 0s 5ms/step - loss: 0.2527 - accuracy: 0.9527\n",
            "Epoch 111/200\n",
            "34/34 [==============================] - 0s 6ms/step - loss: 0.1851 - accuracy: 0.9231\n",
            "Epoch 112/200\n",
            "34/34 [==============================] - 0s 7ms/step - loss: 0.1745 - accuracy: 0.9408\n",
            "Epoch 113/200\n",
            "34/34 [==============================] - 0s 5ms/step - loss: 0.2001 - accuracy: 0.9290\n",
            "Epoch 114/200\n",
            "34/34 [==============================] - 0s 4ms/step - loss: 0.1736 - accuracy: 0.9408\n",
            "Epoch 115/200\n",
            "34/34 [==============================] - 0s 7ms/step - loss: 0.1499 - accuracy: 0.9467\n",
            "Epoch 116/200\n",
            "34/34 [==============================] - 0s 5ms/step - loss: 0.2029 - accuracy: 0.9290\n",
            "Epoch 117/200\n",
            "34/34 [==============================] - 0s 5ms/step - loss: 0.1630 - accuracy: 0.9467\n",
            "Epoch 118/200\n",
            "34/34 [==============================] - 0s 5ms/step - loss: 0.1393 - accuracy: 0.9527\n",
            "Epoch 119/200\n",
            "34/34 [==============================] - 0s 7ms/step - loss: 0.0784 - accuracy: 0.9763\n",
            "Epoch 120/200\n",
            "34/34 [==============================] - 0s 6ms/step - loss: 0.1653 - accuracy: 0.9349\n",
            "Epoch 121/200\n",
            "34/34 [==============================] - ETA: 0s - loss: 0.1453 - accuracy: 0.93 - 0s 5ms/step - loss: 0.1454 - accuracy: 0.9349\n",
            "Epoch 122/200\n",
            "34/34 [==============================] - 0s 6ms/step - loss: 0.0812 - accuracy: 0.9704\n",
            "Epoch 123/200\n",
            "34/34 [==============================] - 0s 6ms/step - loss: 0.1825 - accuracy: 0.9467\n",
            "Epoch 124/200\n",
            "34/34 [==============================] - 0s 5ms/step - loss: 0.2061 - accuracy: 0.9349\n",
            "Epoch 125/200\n",
            "34/34 [==============================] - 0s 6ms/step - loss: 0.1632 - accuracy: 0.9408\n",
            "Epoch 126/200\n",
            "34/34 [==============================] - 0s 8ms/step - loss: 0.1736 - accuracy: 0.9231\n",
            "Epoch 127/200\n",
            "34/34 [==============================] - 0s 6ms/step - loss: 0.1717 - accuracy: 0.9349\n",
            "Epoch 128/200\n",
            "34/34 [==============================] - 0s 6ms/step - loss: 0.1363 - accuracy: 0.9467\n",
            "Epoch 129/200\n",
            "34/34 [==============================] - 0s 6ms/step - loss: 0.1989 - accuracy: 0.9231\n",
            "Epoch 130/200\n",
            "34/34 [==============================] - 0s 5ms/step - loss: 0.1668 - accuracy: 0.9527\n",
            "Epoch 131/200\n",
            "34/34 [==============================] - 0s 8ms/step - loss: 0.1837 - accuracy: 0.9408\n",
            "Epoch 132/200\n",
            "34/34 [==============================] - 0s 8ms/step - loss: 0.1800 - accuracy: 0.9290\n",
            "Epoch 133/200\n",
            "34/34 [==============================] - 0s 9ms/step - loss: 0.2452 - accuracy: 0.9290\n",
            "Epoch 134/200\n",
            "34/34 [==============================] - 0s 5ms/step - loss: 0.1916 - accuracy: 0.9467\n",
            "Epoch 135/200\n",
            "34/34 [==============================] - 0s 6ms/step - loss: 0.1290 - accuracy: 0.9467\n",
            "Epoch 136/200\n",
            "34/34 [==============================] - 0s 6ms/step - loss: 0.1461 - accuracy: 0.9645\n",
            "Epoch 137/200\n",
            "34/34 [==============================] - 0s 6ms/step - loss: 0.1568 - accuracy: 0.9586\n",
            "Epoch 138/200\n",
            "34/34 [==============================] - 0s 6ms/step - loss: 0.0928 - accuracy: 0.9527\n",
            "Epoch 139/200\n",
            "34/34 [==============================] - 0s 7ms/step - loss: 0.1577 - accuracy: 0.9408\n",
            "Epoch 140/200\n",
            "34/34 [==============================] - 0s 5ms/step - loss: 0.2244 - accuracy: 0.9053\n",
            "Epoch 141/200\n",
            "34/34 [==============================] - 0s 5ms/step - loss: 0.1288 - accuracy: 0.9586\n",
            "Epoch 142/200\n",
            "34/34 [==============================] - 0s 7ms/step - loss: 0.1355 - accuracy: 0.9704\n",
            "Epoch 143/200\n",
            "34/34 [==============================] - 0s 5ms/step - loss: 0.2299 - accuracy: 0.9231\n",
            "Epoch 144/200\n",
            "34/34 [==============================] - 0s 7ms/step - loss: 0.2054 - accuracy: 0.9467\n",
            "Epoch 145/200\n",
            "34/34 [==============================] - 0s 5ms/step - loss: 0.1199 - accuracy: 0.9645\n",
            "Epoch 146/200\n",
            "34/34 [==============================] - ETA: 0s - loss: 0.1273 - accuracy: 0.95 - 0s 7ms/step - loss: 0.1278 - accuracy: 0.9586\n",
            "Epoch 147/200\n",
            "34/34 [==============================] - 0s 8ms/step - loss: 0.1557 - accuracy: 0.9467\n",
            "Epoch 148/200\n",
            "34/34 [==============================] - 0s 7ms/step - loss: 0.1426 - accuracy: 0.9586\n",
            "Epoch 149/200\n",
            "34/34 [==============================] - 0s 6ms/step - loss: 0.2183 - accuracy: 0.9349\n",
            "Epoch 150/200\n",
            "34/34 [==============================] - 0s 6ms/step - loss: 0.1868 - accuracy: 0.9467\n",
            "Epoch 151/200\n",
            "34/34 [==============================] - 0s 5ms/step - loss: 0.2293 - accuracy: 0.9349\n",
            "Epoch 152/200\n",
            "34/34 [==============================] - 0s 6ms/step - loss: 0.2490 - accuracy: 0.9053\n",
            "Epoch 153/200\n",
            "34/34 [==============================] - 0s 5ms/step - loss: 0.2988 - accuracy: 0.8817\n",
            "Epoch 154/200\n",
            "34/34 [==============================] - 0s 5ms/step - loss: 0.2425 - accuracy: 0.9349\n",
            "Epoch 155/200\n",
            "34/34 [==============================] - 0s 6ms/step - loss: 0.1302 - accuracy: 0.9527: 0s - loss: 0.1362 - accuracy: \n",
            "Epoch 156/200\n",
            "34/34 [==============================] - 0s 6ms/step - loss: 0.0853 - accuracy: 0.9763: 0s - loss: 0.0887 - accuracy: 0.97\n",
            "Epoch 157/200\n",
            "34/34 [==============================] - 0s 8ms/step - loss: 0.1432 - accuracy: 0.9586: 0s - loss: 0.1667 - accuracy: \n",
            "Epoch 158/200\n",
            "34/34 [==============================] - 0s 5ms/step - loss: 0.1433 - accuracy: 0.9704\n",
            "Epoch 159/200\n",
            "34/34 [==============================] - 0s 6ms/step - loss: 0.2826 - accuracy: 0.8994\n",
            "Epoch 160/200\n",
            "34/34 [==============================] - 0s 8ms/step - loss: 0.1231 - accuracy: 0.9586\n",
            "Epoch 161/200\n",
            "34/34 [==============================] - 0s 6ms/step - loss: 0.1294 - accuracy: 0.9467\n",
            "Epoch 162/200\n",
            "34/34 [==============================] - 0s 9ms/step - loss: 0.1957 - accuracy: 0.9112\n",
            "Epoch 163/200\n",
            "34/34 [==============================] - 0s 8ms/step - loss: 0.1820 - accuracy: 0.9290\n",
            "Epoch 164/200\n",
            "34/34 [==============================] - 0s 5ms/step - loss: 0.2820 - accuracy: 0.9112\n",
            "Epoch 165/200\n",
            "34/34 [==============================] - 0s 6ms/step - loss: 0.2174 - accuracy: 0.9172\n",
            "Epoch 166/200\n",
            "34/34 [==============================] - 0s 6ms/step - loss: 0.2123 - accuracy: 0.9172\n",
            "Epoch 167/200\n",
            "34/34 [==============================] - 0s 6ms/step - loss: 0.1583 - accuracy: 0.9467\n",
            "Epoch 168/200\n",
            "34/34 [==============================] - 0s 10ms/step - loss: 0.2605 - accuracy: 0.9053\n",
            "Epoch 169/200\n",
            "34/34 [==============================] - 0s 6ms/step - loss: 0.2460 - accuracy: 0.9231\n",
            "Epoch 170/200\n",
            "34/34 [==============================] - 0s 4ms/step - loss: 0.1521 - accuracy: 0.9527\n",
            "Epoch 171/200\n",
            "34/34 [==============================] - 0s 5ms/step - loss: 0.1653 - accuracy: 0.9408\n",
            "Epoch 172/200\n",
            "34/34 [==============================] - 0s 8ms/step - loss: 0.1930 - accuracy: 0.9349\n",
            "Epoch 173/200\n",
            "34/34 [==============================] - 0s 6ms/step - loss: 0.1298 - accuracy: 0.9467\n",
            "Epoch 174/200\n",
            "34/34 [==============================] - 0s 5ms/step - loss: 0.1495 - accuracy: 0.9586TA: 0s - loss: 0.1625 - accuracy: 0.95\n",
            "Epoch 175/200\n",
            "34/34 [==============================] - 0s 6ms/step - loss: 0.1841 - accuracy: 0.9349\n",
            "Epoch 176/200\n",
            "34/34 [==============================] - 0s 6ms/step - loss: 0.1575 - accuracy: 0.9349\n",
            "Epoch 177/200\n",
            "34/34 [==============================] - 0s 8ms/step - loss: 0.1880 - accuracy: 0.9349\n",
            "Epoch 178/200\n",
            "34/34 [==============================] - 0s 6ms/step - loss: 0.0960 - accuracy: 0.9645\n",
            "Epoch 179/200\n",
            "34/34 [==============================] - 0s 6ms/step - loss: 0.1658 - accuracy: 0.9349\n",
            "Epoch 180/200\n",
            "34/34 [==============================] - 0s 7ms/step - loss: 0.1267 - accuracy: 0.9527\n",
            "Epoch 181/200\n",
            "34/34 [==============================] - 0s 6ms/step - loss: 0.1984 - accuracy: 0.9467\n",
            "Epoch 182/200\n",
            "34/34 [==============================] - 0s 5ms/step - loss: 0.1649 - accuracy: 0.9408\n",
            "Epoch 183/200\n",
            "34/34 [==============================] - 0s 5ms/step - loss: 0.2153 - accuracy: 0.9349\n",
            "Epoch 184/200\n",
            "34/34 [==============================] - 0s 6ms/step - loss: 0.2046 - accuracy: 0.9231: 0s - loss: 0.2097 - accuracy: 0.92\n",
            "Epoch 185/200\n",
            "34/34 [==============================] - 0s 7ms/step - loss: 0.1410 - accuracy: 0.9467\n",
            "Epoch 186/200\n",
            "34/34 [==============================] - 0s 6ms/step - loss: 0.0926 - accuracy: 0.9645\n",
            "Epoch 187/200\n",
            "34/34 [==============================] - 0s 5ms/step - loss: 0.0849 - accuracy: 0.9704\n",
            "Epoch 188/200\n",
            "34/34 [==============================] - 0s 6ms/step - loss: 0.1292 - accuracy: 0.9527\n",
            "Epoch 189/200\n",
            "34/34 [==============================] - 0s 7ms/step - loss: 0.0919 - accuracy: 0.9586\n",
            "Epoch 190/200\n",
            "34/34 [==============================] - 0s 5ms/step - loss: 0.0866 - accuracy: 0.9763: 0s - loss: 0.0870 - accuracy: 0.\n",
            "Epoch 191/200\n",
            "34/34 [==============================] - 0s 7ms/step - loss: 0.0640 - accuracy: 0.9704\n",
            "Epoch 192/200\n",
            "34/34 [==============================] - 0s 6ms/step - loss: 0.1073 - accuracy: 0.9645\n",
            "Epoch 193/200\n",
            "34/34 [==============================] - 0s 5ms/step - loss: 0.1136 - accuracy: 0.9586\n",
            "Epoch 194/200\n",
            "34/34 [==============================] - 0s 5ms/step - loss: 0.1237 - accuracy: 0.9527\n",
            "Epoch 195/200\n",
            "34/34 [==============================] - 0s 5ms/step - loss: 0.1326 - accuracy: 0.9467\n",
            "Epoch 196/200\n",
            "34/34 [==============================] - 0s 8ms/step - loss: 0.1102 - accuracy: 0.9645\n",
            "Epoch 197/200\n",
            "34/34 [==============================] - 0s 7ms/step - loss: 0.1492 - accuracy: 0.9467\n",
            "Epoch 198/200\n",
            "34/34 [==============================] - ETA: 0s - loss: 0.1500 - accuracy: 0.95 - 0s 5ms/step - loss: 0.1383 - accuracy: 0.9586\n",
            "Epoch 199/200\n",
            "34/34 [==============================] - 0s 4ms/step - loss: 0.2057 - accuracy: 0.9349\n",
            "Epoch 200/200\n",
            "34/34 [==============================] - 0s 7ms/step - loss: 0.1813 - accuracy: 0.9586\n",
            "model created\n"
          ]
        }
      ],
      "source": [
        "#fitting and saving the model \n",
        "hist = model.fit(np.array(train_x), np.array(train_y), epochs=200, batch_size=5, verbose=1)\n",
        "model.save('chatbot_model.h5', hist)\n",
        "\n",
        "print(\"model created\")\n"
      ]
    },
    {
      "cell_type": "code",
      "execution_count": 28,
      "metadata": {
        "id": "qIvY-WE0j9bH"
      },
      "outputs": [],
      "source": [
        "from keras.models import load_model\n",
        "model = load_model('chatbot_model.h5')"
      ]
    },
    {
      "cell_type": "code",
      "execution_count": 31,
      "metadata": {
        "id": "wrDr8xuZEZsm"
      },
      "outputs": [],
      "source": [
        "intents = json.loads(open('./content/intents.json').read())\n",
        "words = pickle.load(open('./content/words.pkl','rb'))\n",
        "classes = pickle.load(open('./content/classes.pkl','rb'))"
      ]
    },
    {
      "cell_type": "code",
      "execution_count": 32,
      "metadata": {
        "id": "Gke07zbwEmmD"
      },
      "outputs": [],
      "source": [
        "# Utility Methods\n",
        "def clean_up_sentence(sentence):\n",
        "    # tokenize the pattern - split words into array\n",
        "    sentence_words = nltk.word_tokenize(sentence)\n",
        "    # stem each word - create short form for word\n",
        "    sentence_words = [lemmatizer.lemmatize(word.lower()) for word in sentence_words]\n",
        "    return sentence_words\n",
        "# return bag of words array: 0 or 1 for each word in the bag that exists in the sentence\n",
        "def bow(sentence, words, show_details=True):\n",
        "    # tokenize the pattern\n",
        "    sentence_words = clean_up_sentence(sentence)\n",
        "    # bag of words - matrix of N words, vocabulary matrix\n",
        "    bag = [0]*len(words) \n",
        "    for s in sentence_words:\n",
        "        for i,w in enumerate(words):\n",
        "            if w == s: \n",
        "                # assign 1 if current word is in the vocabulary position\n",
        "                bag[i] = 1\n",
        "                if show_details:\n",
        "                    print (\"found in bag: %s\" % w)\n",
        "    return(np.array(bag))\n",
        "def predict_class(sentence, model):\n",
        "    # filter out predictions below a threshold\n",
        "    p = bow(sentence, words,show_details=False)\n",
        "    res = model.predict(np.array([p]))[0]\n",
        "    ERROR_THRESHOLD = 0.25\n",
        "    results = [[i,r] for i,r in enumerate(res) if r>ERROR_THRESHOLD]\n",
        "    # sort by strength of probability\n",
        "    results.sort(key=lambda x: x[1], reverse=True)\n",
        "    return_list = []\n",
        "    for r in results:\n",
        "        return_list.append({\"intent\": classes[r[0]], \"probability\": str(r[1])})\n",
        "    return return_list"
      ]
    },
    {
      "cell_type": "code",
      "execution_count": 33,
      "metadata": {
        "id": "zhfy3-mdFDTy"
      },
      "outputs": [],
      "source": [
        "def getResponse(ints, intents_json):\n",
        "    tag = ints[0]['intent']\n",
        "    list_of_intents = intents_json['intents']\n",
        "    for i in list_of_intents:\n",
        "        if(i['tag']== tag):\n",
        "            result = random.choice(i['responses'])\n",
        "            break\n",
        "    return result\n",
        "def chatbot_response(text):\n",
        "    ints = predict_class(text, model)\n",
        "    res = getResponse(ints, intents)\n",
        "    return res"
      ]
    },
    {
      "cell_type": "code",
      "execution_count": 36,
      "metadata": {
        "colab": {
          "base_uri": "https://localhost:8080/",
          "height": 34
        },
        "id": "6sOmCuajFEer",
        "outputId": "b13bb8da-c621-428e-a98c-ec203fe48ff7"
      },
      "outputs": [
        {
          "name": "stdout",
          "output_type": "stream",
          "text": [
            "ARRDELBEE est une plateforme d'appropriation du dÃ©veloppement territorial crÃ©Ã©e par ARRDEL.\n"
          ]
        }
      ],
      "source": [
        "res = chatbot_response(\"c'est quoi la plateforme arrdellbee ? \")\n",
        "print(res)"
      ]
    },
    {
      "cell_type": "code",
      "execution_count": 35,
      "metadata": {
        "id": "6YChuu21mDO-"
      },
      "outputs": [],
      "source": [
        "!pip freeze > requirements.txt"
      ]
    },
    {
      "cell_type": "code",
      "execution_count": null,
      "metadata": {
        "id": "0XW_TuBZmGE7"
      },
      "outputs": [],
      "source": []
    }
  ],
  "metadata": {
    "colab": {
      "include_colab_link": true,
      "name": "MyChatBot.ipynb",
      "provenance": []
    },
    "kernelspec": {
      "display_name": "Python 3",
      "name": "python3"
    },
    "language_info": {
      "codemirror_mode": {
        "name": "ipython",
        "version": 3
      },
      "file_extension": ".py",
      "mimetype": "text/x-python",
      "name": "python",
      "nbconvert_exporter": "python",
      "pygments_lexer": "ipython3",
      "version": "3.6.8"
    }
  },
  "nbformat": 4,
  "nbformat_minor": 0
}
